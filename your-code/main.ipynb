{
 "cells": [
  {
   "cell_type": "markdown",
   "metadata": {},
   "source": [
    "# Intrduction to NumPy\n",
    "\n",
    "\n",
    "#### 1. Import NumPy under the name np."
   ]
  },
  {
   "cell_type": "code",
   "execution_count": 2,
   "metadata": {},
   "outputs": [],
   "source": [
    "# your code here\n",
    "import numpy as np"
   ]
  },
  {
   "cell_type": "markdown",
   "metadata": {},
   "source": [
    "#### 2. Print your NumPy version."
   ]
  },
  {
   "cell_type": "code",
   "execution_count": 5,
   "metadata": {},
   "outputs": [
    {
     "data": {
      "text/plain": [
       "'1.16.2'"
      ]
     },
     "execution_count": 5,
     "metadata": {},
     "output_type": "execute_result"
    }
   ],
   "source": [
    "# your code here\n",
    "np.version.version"
   ]
  },
  {
   "cell_type": "markdown",
   "metadata": {},
   "source": [
    "#### 3. Generate a 2x3x5 3-dimensional array with random values. Assign the array to variable *a*.\n",
    "**Challenge**: there are at least three easy ways that use numpy to generate random arrays. How many ways can you find?"
   ]
  },
  {
   "cell_type": "code",
   "execution_count": 48,
   "metadata": {},
   "outputs": [
    {
     "name": "stdout",
     "output_type": "stream",
     "text": [
      "0.10365944842831287\n",
      "[[[0.03898441 0.21386398 0.53606729 0.14892163 0.28736432]\n",
      "  [0.11846639 0.41908104 0.63174923 0.9168559  0.7829019 ]\n",
      "  [0.4836397  0.27755629 0.89459049 0.82137362 0.49745524]]\n",
      "\n",
      " [[0.05460446 0.23918198 0.02727837 0.89413572 0.60492934]\n",
      "  [0.7644341  0.41829761 0.22755724 0.59946876 0.74478441]\n",
      "  [0.83906294 0.07184371 0.1696624  0.44731505 0.81406373]]]\n"
     ]
    },
    {
     "data": {
      "text/plain": [
       "(2, 3, 5)"
      ]
     },
     "execution_count": 48,
     "metadata": {},
     "output_type": "execute_result"
    }
   ],
   "source": [
    "# Method 1: CONSTRUC the matrix put each value one by one: too slow, not efficient, (I think)\n",
    "\n",
    "\n",
    "\n",
    "###   x*y*z--> x paragrapahs with  y sentences with z words\n",
    "\n",
    "import random\n",
    "n1 =random.random()\n",
    "print(n1)\n",
    "a = np.array([\n",
    "                [[random.random(), random.random(),random.random(),random.random(),random.random()],\n",
    "                [random.random(),random.random(),random.random(),random.random(),random.random()],\n",
    "                [random.random(),random.random(),random.random(),random.random(),random.random()]],\n",
    "    \n",
    "                [[random.random(),random.random(),random.random(),random.random(),random.random()],\n",
    "                [random.random(),random.random(),random.random(),random.random(),random.random()],\n",
    "                [random.random(),random.random(),random.random(),random.random(),random.random()]]\n",
    "            ])\n",
    "print(a)\n",
    "a.shape\n"
   ]
  },
  {
   "cell_type": "code",
   "execution_count": 132,
   "metadata": {},
   "outputs": [
    {
     "name": "stdout",
     "output_type": "stream",
     "text": [
      "[[[30 32 34 36 38]\n",
      "  [40 42 44 46 48]\n",
      "  [50 52 54 56 58]]\n",
      "\n",
      " [[60 62 64 66 68]\n",
      "  [70 72 74 76 78]\n",
      "  [80 82 84 86 88]]]\n",
      " Now we multiply by a random values (\n",
      "\n",
      "a by int random values and b matrix by float random values\n",
      "\n",
      "\n",
      "#################################### \n",
      " a = [[[210 224 238 252 266]\n",
      "  [280 294 308 322 336]\n",
      "  [350 364 378 392 406]]\n",
      "\n",
      " [[420 434 448 462 476]\n",
      "  [490 504 518 532 546]\n",
      "  [560 574 588 602 616]]] \n",
      "\n",
      " a is a matrix created with int random values\n",
      "\n",
      "\n",
      "\n",
      "#################################### \n",
      " b = [[[ 71.4   76.16  80.92  85.68  90.44]\n",
      "  [ 95.2   99.96 104.72 109.48 114.24]\n",
      "  [119.   123.76 128.52 133.28 138.04]]\n",
      "\n",
      " [[142.8  147.56 152.32 157.08 161.84]\n",
      "  [166.6  171.36 176.12 180.88 185.64]\n",
      "  [190.4  195.16 199.92 204.68 209.44]]] \n",
      "\n",
      " b is a matrix created with float random values with just 2 decimals\n"
     ]
    }
   ],
   "source": [
    "# Method 2: defines the range with we want to fill the matrix (start, stop, step) in a multidimensional \n",
    "##array(matrix) of x*y*z size\n",
    "import random \n",
    "\n",
    "##x**y*z has to fit with the difference between stop-start (take into account the steps: 1 by default)\n",
    "\n",
    "\n",
    "#################\n",
    "#1s method found (step by step): create a matrix and the, multiply by a random value.\n",
    "\n",
    "a = np.arange(30,90,2).reshape(2,3,5) ##we create a multidimensional array of 2*3*5 size\n",
    "print(f'{a}\\n Now we multiply by a random values (\\n\\na by int random values and b matrix by float random values\\n\\n')\n",
    "\n",
    "\n",
    "###################################\n",
    "##the new matrix is multiplied by a INT random value, each matrix value by a different random value.\n",
    "a = (a*random.randint(0,10)) \n",
    "\n",
    "\n",
    "####################################\n",
    "##the new matrix is multiplied by a FLOAT random value, each matrix value by a different random value.\n",
    "b = a*round(random.random(),2) \n",
    "#round is a function to limit the number in just 2 decimals\n",
    "\n",
    "\n",
    "print(f'#################################### \\n a = {a} \\n\\n a is a matrix created with int random values\\n\\n\\n')\n",
    "\n",
    "print(f'#################################### \\n b = {b} \\n\\n b is a matrix created with float random values with just 2 decimals')\n"
   ]
  },
  {
   "cell_type": "code",
   "execution_count": 140,
   "metadata": {},
   "outputs": [
    {
     "name": "stdout",
     "output_type": "stream",
     "text": [
      "####################################\n",
      "\n",
      "matrix a = \n",
      "\n",
      "[[[24 10 19  1  3]\n",
      "  [ 7 27 20 18  2]\n",
      "  [ 7 17 11 18 23]]\n",
      "\n",
      " [[ 6 24  5 16  6]\n",
      "  [20 21  9 13  1]\n",
      "  [ 2 20  8  7 21]]]\n",
      "\n",
      " made by int random numbers\n",
      "\n",
      "\n",
      "#################################### \n",
      "\n",
      "matrix b = \n",
      "\n",
      "[[[0.50129459 0.55057221 0.69318726 0.37623224 0.51685555]\n",
      "  [0.64950784 0.88168993 0.27864045 0.38837902 0.41972059]\n",
      "  [0.23212409 0.48072027 0.79124358 0.47335988 0.89023896]]\n",
      "\n",
      " [[0.7688717  0.45749762 0.59010914 0.46453696 0.63264627]\n",
      "  [0.27491383 0.9338362  0.35007834 0.66173414 0.34272343]\n",
      "  [0.22640789 0.52620552 0.41118938 0.59318503 0.04116095]]]\n",
      "\n",
      " made by float random numbers\n"
     ]
    }
   ],
   "source": [
    "# Method 2\n",
    "\n",
    "#################\n",
    "#2nd method found (strigthway): create a x*y*z matrix with random values from a determinate range.\n",
    "\n",
    "\n",
    "\n",
    "a = np.random.randint(0, 30, size=[2,3,5])\n",
    "\n",
    "print(f'####################################\\n\\nmatrix a = \\n\\n{a}\\n\\n made by int random numbers\\n\\n')\n",
    "\n",
    "\n",
    "b = np.random.random(size=[2,3,5])\n",
    "\n",
    "print(f'#################################### \\n\\nmatrix b = \\n\\n{b}\\n\\n made by float random numbers')\n",
    "\n",
    "\n"
   ]
  },
  {
   "cell_type": "code",
   "execution_count": 124,
   "metadata": {},
   "outputs": [
    {
     "name": "stdout",
     "output_type": "stream",
     "text": [
      "(2, 3, 5)\n"
     ]
    }
   ],
   "source": [
    "# Method 3\n"
   ]
  },
  {
   "cell_type": "markdown",
   "metadata": {},
   "source": [
    "#### 4. Print *a*.\n"
   ]
  },
  {
   "cell_type": "code",
   "execution_count": 141,
   "metadata": {},
   "outputs": [
    {
     "name": "stdout",
     "output_type": "stream",
     "text": [
      "[[[24 10 19  1  3]\n",
      "  [ 7 27 20 18  2]\n",
      "  [ 7 17 11 18 23]]\n",
      "\n",
      " [[ 6 24  5 16  6]\n",
      "  [20 21  9 13  1]\n",
      "  [ 2 20  8  7 21]]]\n"
     ]
    }
   ],
   "source": [
    "# your code here\n",
    "print (a)"
   ]
  },
  {
   "cell_type": "markdown",
   "metadata": {},
   "source": [
    "#### 5. Create a 5x2x3 3-dimensional array with all values equaling 1. Assign the array to variable *b*."
   ]
  },
  {
   "cell_type": "code",
   "execution_count": 192,
   "metadata": {},
   "outputs": [
    {
     "name": "stdout",
     "output_type": "stream",
     "text": [
      "[[[1 1 1]\n",
      "  [1 1 1]]\n",
      "\n",
      " [[1 1 1]\n",
      "  [1 1 1]]\n",
      "\n",
      " [[1 1 1]\n",
      "  [1 1 1]]\n",
      "\n",
      " [[1 1 1]\n",
      "  [1 1 1]]\n",
      "\n",
      " [[1 1 1]\n",
      "  [1 1 1]]]\n",
      "\n",
      "\n",
      "matriz size of a = (5, 2, 3)\n"
     ]
    }
   ],
   "source": [
    "# your code here\n",
    "a =np.ones([5,2,3],dtype=np.int32) ##dtype=np.int32 to specify we want int, no floats as create by default\n",
    "\n",
    "print(a)\n",
    "print(f'\\n\\nmatriz size of a = {a.shape}')\n",
    "\n",
    "b = a\n"
   ]
  },
  {
   "cell_type": "markdown",
   "metadata": {},
   "source": [
    "#### 6. Print *b*.\n"
   ]
  },
  {
   "cell_type": "code",
   "execution_count": 193,
   "metadata": {},
   "outputs": [
    {
     "name": "stdout",
     "output_type": "stream",
     "text": [
      "[[[1 1 1]\n",
      "  [1 1 1]]\n",
      "\n",
      " [[1 1 1]\n",
      "  [1 1 1]]\n",
      "\n",
      " [[1 1 1]\n",
      "  [1 1 1]]\n",
      "\n",
      " [[1 1 1]\n",
      "  [1 1 1]]\n",
      "\n",
      " [[1 1 1]\n",
      "  [1 1 1]]]\n",
      "\n",
      "\n",
      "matriz size of b= (5, 2, 3)\n"
     ]
    }
   ],
   "source": [
    "# your code here\n",
    "print(b)\n",
    "print(f'\\n\\nmatriz size of b= {b.shape}')"
   ]
  },
  {
   "cell_type": "markdown",
   "metadata": {},
   "source": [
    "#### 7. Do *a* and *b* have the same size? How do you prove that in Python code?"
   ]
  },
  {
   "cell_type": "code",
   "execution_count": 205,
   "metadata": {},
   "outputs": [
    {
     "name": "stdout",
     "output_type": "stream",
     "text": [
      "Taking a matrix A: \n",
      "\n",
      "    a*  = transponse of A.\n",
      "    \n",
      "    *a = A\n",
      "    \n",
      "False\n",
      "shape of a* = (3, 2, 5), shape of *b = (5, 2, 3)\n"
     ]
    }
   ],
   "source": [
    "# your code here\n",
    "print('''Taking a matrix A: \n",
    "\n",
    "    a*  = transponse of A.\n",
    "    \n",
    "    *a = A\n",
    "    ''')\n",
    "\n",
    "\n",
    "a_ = a.transpose() ##Definition of the transpose matrix of a and b, so-called (a*,b*)\n",
    "b_ = b.transpose()\n",
    "\n",
    "if a.shape == b_.shape:\n",
    "    print(True)\n",
    "    print(f'shape of a* and *b = {a_.shape}')\n",
    "else:\n",
    "    print(False)\n",
    "    print(f'shape of a* = {a_.shape}, shape of *b = {b.shape}')\n"
   ]
  },
  {
   "cell_type": "markdown",
   "metadata": {},
   "source": [
    "#### 8. Are you able to add *a* and *b*? Why or why not?\n"
   ]
  },
  {
   "cell_type": "code",
   "execution_count": 206,
   "metadata": {},
   "outputs": [
    {
     "name": "stdout",
     "output_type": "stream",
     "text": [
      "Taking a matrix A: \n",
      "\n",
      "    a*  = transponse of A.\n",
      "    \n",
      "    *a = A\n",
      "    \n",
      "According with Algebra, we just can add or substract(sum or rest) elements between matrices when their dimensions are the same. \n",
      "\n",
      "Therefore, we can operate between (a,b) and the groupo of their transpose (a_,b_): not between both groups.\n",
      "    \n",
      "\n",
      "matrix size of *a = (5, 2, 3)\n",
      "\n",
      "\n",
      "\n",
      "\n",
      "\n",
      "matrix size of *b = (5, 2, 3)\n",
      "\n",
      "\n",
      "\n",
      "\n",
      "\n",
      "matrix size of a* = (3, 2, 5)\n",
      "\n",
      "\n",
      "\n",
      "\n",
      "\n",
      "matrix size of b* = (3, 2, 5)\n",
      "\n",
      "\n"
     ]
    }
   ],
   "source": [
    "# your answer here\n",
    "\n",
    "\n",
    "print('''Taking a matrix A: \n",
    "\n",
    "    a*  = transponse of A.\n",
    "    \n",
    "    *a = A\n",
    "    ''')\n",
    "\n",
    "print('''According with Algebra, we just can add or substract(sum or rest) elements between matrices when their dimensions are the same. \\n\\nTherefore, we can operate between (a,b) and the groupo of their transpose (a_,b_): not between both groups.\n",
    "    ''')\n",
    "\n",
    "#print(a)\n",
    "print(f'\\nmatrix size of *a = {a.shape}\\n\\n\\n\\n')\n",
    "\n",
    "#print(b)\n",
    "print(f'\\nmatrix size of *b = {b.shape}\\n\\n\\n\\n')\n",
    "\n",
    "\n",
    "a_ = a.transpose()\n",
    "#print(a_)\n",
    "print(f'\\nmatrix size of a* = {a_.shape}\\n\\n\\n\\n')\n",
    "\n",
    "\n",
    "\n",
    "b_= b.transpose()\n",
    "#print(b_)\n",
    "print(f'\\nmatrix size of b* = {b_.shape}\\n\\n')\n"
   ]
  },
  {
   "cell_type": "markdown",
   "metadata": {},
   "source": [
    "#### 9. Transpose *b* so that it has the same structure of *a* (i.e. become a 2x3x5 array). Assign the transposed array to variable *c*."
   ]
  },
  {
   "cell_type": "code",
   "execution_count": 207,
   "metadata": {},
   "outputs": [
    {
     "name": "stdout",
     "output_type": "stream",
     "text": [
      "\n",
      "matrix size of b* = (3, 2, 5)\n",
      "\n",
      "\n",
      "\n",
      "matrix size of c = (5, 2, 3)\n",
      "\n",
      "\n"
     ]
    }
   ],
   "source": [
    "# your code here\n",
    "\n",
    "print(f'\\nmatrix size of b* = {b_.shape}\\n\\n')\n",
    "\n",
    "c = b_.transpose()\n",
    "\n",
    "\n",
    "#print(c)\n",
    "print(f'\\nmatrix size of c = {c.shape}\\n\\n')\n"
   ]
  },
  {
   "cell_type": "markdown",
   "metadata": {},
   "source": [
    "#### 10. Try to add *a* and *c*. Now it should work. Assign the sum to variable *d*. But why does it work now?"
   ]
  },
  {
   "cell_type": "code",
   "execution_count": 220,
   "metadata": {},
   "outputs": [
    {
     "name": "stdout",
     "output_type": "stream",
     "text": [
      "\n",
      "    \n",
      "    It isn't going to work because the size of a* = (3, 2, 5) and the size of c = (5, 2, 3).\n",
      "    \n",
      "    But let's check it anyway...\n",
      "    \n",
      "     \n"
     ]
    }
   ],
   "source": [
    "# your code/answer here\n",
    "   \n",
    "print(f'''\n",
    "    \n",
    "    It isn't going to work because the size of a* = {a_.shape} and the size of c = {c.shape}.\n",
    "    \n",
    "    But let's check it anyway...\n",
    "    \n",
    "     ''')\n"
   ]
  },
  {
   "cell_type": "code",
   "execution_count": 227,
   "metadata": {},
   "outputs": [
    {
     "ename": "ValueError",
     "evalue": "operands could not be broadcast together with shapes (3,2,5) (5,2,3) ",
     "output_type": "error",
     "traceback": [
      "\u001b[0;31m---------------------------------------------------------------------------\u001b[0m",
      "\u001b[0;31mValueError\u001b[0m                                Traceback (most recent call last)",
      "\u001b[0;32m<ipython-input-227-c1b36ceab6a4>\u001b[0m in \u001b[0;36m<module>\u001b[0;34m\u001b[0m\n\u001b[0;32m----> 1\u001b[0;31m \u001b[0md\u001b[0m \u001b[0;34m=\u001b[0m \u001b[0ma_\u001b[0m \u001b[0;34m+\u001b[0m \u001b[0mc\u001b[0m\u001b[0;34m\u001b[0m\u001b[0;34m\u001b[0m\u001b[0m\n\u001b[0m\u001b[1;32m      2\u001b[0m \u001b[0mprint\u001b[0m\u001b[0;34m(\u001b[0m\u001b[0md\u001b[0m\u001b[0;34m)\u001b[0m\u001b[0;34m\u001b[0m\u001b[0;34m\u001b[0m\u001b[0m\n\u001b[1;32m      3\u001b[0m \u001b[0mprint\u001b[0m\u001b[0;34m(\u001b[0m\u001b[0;34mf'\\nmatrix size of d = {d.shape}\\n\\n'\u001b[0m\u001b[0;34m)\u001b[0m\u001b[0;34m\u001b[0m\u001b[0;34m\u001b[0m\u001b[0m\n\u001b[1;32m      4\u001b[0m \u001b[0mprint\u001b[0m\u001b[0;34m(\u001b[0m\u001b[0;34mf'it does not work because the size of a* = {a_.shape} and the size of c = {c.shape} '\u001b[0m\u001b[0;34m)\u001b[0m\u001b[0;34m\u001b[0m\u001b[0;34m\u001b[0m\u001b[0m\n",
      "\u001b[0;31mValueError\u001b[0m: operands could not be broadcast together with shapes (3,2,5) (5,2,3) "
     ]
    }
   ],
   "source": [
    "d = a_ + c\n",
    "print(d)\n",
    "print(f'\\nmatrix size of d = {d.shape}\\n\\n')\n",
    "print(f'it does not work because the size of a* = {a_.shape} and the size of c = {c.shape} ')\n"
   ]
  },
  {
   "cell_type": "markdown",
   "metadata": {},
   "source": [
    "#### 11. Print *a* and *d*. Notice the difference and relation of the two array in terms of the values? Explain."
   ]
  },
  {
   "cell_type": "code",
   "execution_count": 245,
   "metadata": {},
   "outputs": [
    {
     "name": "stdout",
     "output_type": "stream",
     "text": [
      "\n",
      "\n",
      "the size of \"a*\"\" = (3, 2, 5) and the size of \"c\" = (5, 2, 3) and the size of \"d\" should be the same of the sum or rest of two elements involved it in.\n",
      "In this case d will just exist if we sum \"a*\" and \"c*\"\" or \"*a\" and \"*c\"\n",
      "\n",
      "    \n",
      " matrix d = \n",
      " [[[2 2 2]\n",
      "  [2 2 2]]\n",
      "\n",
      " [[2 2 2]\n",
      "  [2 2 2]]\n",
      "\n",
      " [[2 2 2]\n",
      "  [2 2 2]]\n",
      "\n",
      " [[2 2 2]\n",
      "  [2 2 2]]\n",
      "\n",
      " [[2 2 2]\n",
      "  [2 2 2]]]\n",
      " with a size of (5, 2, 3)\n",
      "\n",
      "\n",
      "matrix d = \n",
      " [[[2 2 2 2 2]\n",
      "  [2 2 2 2 2]]\n",
      "\n",
      " [[2 2 2 2 2]\n",
      "  [2 2 2 2 2]]\n",
      "\n",
      " [[2 2 2 2 2]\n",
      "  [2 2 2 2 2]]]\n",
      " with a size of (3, 2, 5)\n"
     ]
    }
   ],
   "source": [
    "# your code/answer here\n",
    "\n",
    "print(f'''\n",
    "\n",
    "the size of \"a*\"\" = {a_.shape} and the size of \"c\" = {c.shape} and the size of \"d\" should be the same of the sum or rest of two elements involved it in.\n",
    "In this case d will just exist if we sum \"a*\" and \"c*\"\" or \"*a\" and \"*c\"\n",
    "\n",
    "    ''')\n",
    "\n",
    "d = a + c\n",
    "\n",
    "print(f' matrix d = \\n {d}\\n with a size of {d.shape}')\n",
    "\n",
    "c_ = c.transpose()\n",
    "d_ = a_ + c_\n",
    "\n",
    "print(f'\\n\\nmatrix d = \\n {d_}\\n with a size of {d_.shape}')\n",
    "      "
   ]
  },
  {
   "cell_type": "markdown",
   "metadata": {},
   "source": [
    "#### 12. Multiply *a* and *c*. Assign the result to *e*."
   ]
  },
  {
   "cell_type": "code",
   "execution_count": 243,
   "metadata": {},
   "outputs": [
    {
     "ename": "ValueError",
     "evalue": "shapes (3,2,5) and (5,2,3) not aligned: 5 (dim 2) != 2 (dim 1)",
     "output_type": "error",
     "traceback": [
      "\u001b[0;31m---------------------------------------------------------------------------\u001b[0m",
      "\u001b[0;31mValueError\u001b[0m                                Traceback (most recent call last)",
      "\u001b[0;32m<ipython-input-243-b67851887cf2>\u001b[0m in \u001b[0;36m<module>\u001b[0;34m\u001b[0m\n\u001b[1;32m      1\u001b[0m \u001b[0;31m# your code here\u001b[0m\u001b[0;34m\u001b[0m\u001b[0;34m\u001b[0m\u001b[0;34m\u001b[0m\u001b[0m\n\u001b[1;32m      2\u001b[0m \u001b[0;34m\u001b[0m\u001b[0m\n\u001b[0;32m----> 3\u001b[0;31m \u001b[0me\u001b[0m\u001b[0;34m=\u001b[0m \u001b[0mnp\u001b[0m\u001b[0;34m.\u001b[0m\u001b[0mdot\u001b[0m\u001b[0;34m(\u001b[0m\u001b[0ma_\u001b[0m\u001b[0;34m,\u001b[0m\u001b[0mc\u001b[0m\u001b[0;34m)\u001b[0m\u001b[0;34m\u001b[0m\u001b[0;34m\u001b[0m\u001b[0m\n\u001b[0m\u001b[1;32m      4\u001b[0m \u001b[0;34m\u001b[0m\u001b[0m\n\u001b[1;32m      5\u001b[0m \u001b[0mprint\u001b[0m\u001b[0;34m(\u001b[0m\u001b[0;34mf'\\n\\nmatrix e = \\n {e}\\n with a size of {e.shape}'\u001b[0m\u001b[0;34m)\u001b[0m\u001b[0;34m\u001b[0m\u001b[0;34m\u001b[0m\u001b[0m\n",
      "\u001b[0;31mValueError\u001b[0m: shapes (3,2,5) and (5,2,3) not aligned: 5 (dim 2) != 2 (dim 1)"
     ]
    }
   ],
   "source": [
    "# your code here\n",
    "\n",
    "e= np.dot(a_,c)\n",
    "\n",
    "print(f'\\n\\nmatrix e = \\n {e}\\n with a size of {e.shape}')\n"
   ]
  },
  {
   "cell_type": "markdown",
   "metadata": {},
   "source": [
    "#### 13. Does *e* equal to *a*? Why or why not?\n"
   ]
  },
  {
   "cell_type": "code",
   "execution_count": null,
   "metadata": {},
   "outputs": [],
   "source": [
    "# your code/answer here"
   ]
  },
  {
   "cell_type": "markdown",
   "metadata": {},
   "source": [
    "#### 14. Identify the max, min, and mean values in *d*. Assign those values to variables *d_max*, *d_min* and *d_mean*."
   ]
  },
  {
   "cell_type": "code",
   "execution_count": null,
   "metadata": {},
   "outputs": [],
   "source": [
    "# your code here"
   ]
  },
  {
   "cell_type": "markdown",
   "metadata": {},
   "source": [
    "#### 15. Now we want to label the values in *d*. First create an empty array *f* with the same shape (i.e. 2x3x5) as *d* using `np.empty`.\n"
   ]
  },
  {
   "cell_type": "code",
   "execution_count": null,
   "metadata": {},
   "outputs": [],
   "source": [
    "# your code here"
   ]
  },
  {
   "cell_type": "markdown",
   "metadata": {},
   "source": [
    "#### 16. Populate the values in *f*. \n",
    "\n",
    "For each value in *d*, if it's larger than *d_min* but smaller than *d_mean*, assign 25 to the corresponding value in *f*. If a value in *d* is larger than *d_mean* but smaller than *d_max*, assign 75 to the corresponding value in *f*. If a value equals to *d_mean*, assign 50 to the corresponding value in *f*. Assign 0 to the corresponding value(s) in *f* for *d_min* in *d*. Assign 100 to the corresponding value(s) in *f* for *d_max* in *d*. In the end, f should have only the following values: 0, 25, 50, 75, and 100.\n",
    "\n",
    "**Note**: you don't have to use Numpy in this question."
   ]
  },
  {
   "cell_type": "code",
   "execution_count": 1,
   "metadata": {},
   "outputs": [],
   "source": [
    "# your code here"
   ]
  },
  {
   "cell_type": "markdown",
   "metadata": {},
   "source": [
    "#### 17. Print *d* and *f*. Do you have your expected *f*?\n",
    "For instance, if your *d* is:\n",
    "```python\n",
    "[[[1.85836099, 1.67064465, 1.62576044, 1.40243961, 1.88454931],\n",
    "[1.75354326, 1.69403643, 1.36729252, 1.61415071, 1.12104981],\n",
    "[1.72201435, 1.1862918 , 1.87078449, 1.7726778 , 1.88180042]],\n",
    "[[1.44747908, 1.31673383, 1.02000951, 1.52218947, 1.97066381],\n",
    "[1.79129243, 1.74983003, 1.96028037, 1.85166831, 1.65450881],\n",
    "[1.18068344, 1.9587381 , 1.00656599, 1.93402165, 1.73514584]]]\n",
    "```\n",
    "Your *f* should be:\n",
    "```python\n",
    "[[[ 75.,  75.,  75.,  25.,  75.],\n",
    "[ 75.,  75.,  25.,  25.,  25.],\n",
    "[ 75.,  25.,  75.,  75.,  75.]],\n",
    "[[ 25.,  25.,  25.,  25., 100.],\n",
    "[ 75.,  75.,  75.,  75.,  75.],\n",
    "[ 25.,  75.,   0.,  75.,  75.]]]\n",
    "```"
   ]
  },
  {
   "cell_type": "code",
   "execution_count": null,
   "metadata": {},
   "outputs": [],
   "source": [
    "# your code here"
   ]
  },
  {
   "cell_type": "markdown",
   "metadata": {},
   "source": [
    "#### 18. Bonus question: instead of using numbers (i.e. 0, 25, 50, 75, and 100), use string values  (\"A\", \"B\", \"C\", \"D\", and \"E\") to label the array elements. For the example above, the expected result is:\n",
    "\n",
    "```python\n",
    "[[[ 'D',  'D',  'D',  'B',  'D'],\n",
    "[ 'D',  'D',  'B',  'B',  'B'],\n",
    "[ 'D',  'B',  'D',  'D',  'D']],\n",
    "[[ 'B',  'B',  'B',  'B',  'E'],\n",
    "[ 'D',  'D',  'D',  'D',  'D'],\n",
    "[ 'B',  'D',   'A',  'D', 'D']]]\n",
    "```\n",
    "**Note**: you don't have to use Numpy in this question."
   ]
  },
  {
   "cell_type": "code",
   "execution_count": null,
   "metadata": {},
   "outputs": [],
   "source": [
    "# your code here"
   ]
  }
 ],
 "metadata": {
  "kernelspec": {
   "display_name": "Python 3",
   "language": "python",
   "name": "python3"
  },
  "language_info": {
   "codemirror_mode": {
    "name": "ipython",
    "version": 3
   },
   "file_extension": ".py",
   "mimetype": "text/x-python",
   "name": "python",
   "nbconvert_exporter": "python",
   "pygments_lexer": "ipython3",
   "version": "3.7.3"
  }
 },
 "nbformat": 4,
 "nbformat_minor": 2
}
