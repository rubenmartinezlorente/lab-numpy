{
 "cells": [
  {
   "cell_type": "markdown",
   "metadata": {},
   "source": [
    "# Intrduction to NumPy\n",
    "\n",
    "\n",
    "#### 1. Import NumPy under the name np."
   ]
  },
  {
   "cell_type": "code",
   "execution_count": 1,
   "metadata": {},
   "outputs": [],
   "source": [
    "# your code here\n",
    "import numpy as np"
   ]
  },
  {
   "cell_type": "markdown",
   "metadata": {},
   "source": [
    "#### 2. Print your NumPy version."
   ]
  },
  {
   "cell_type": "code",
   "execution_count": 2,
   "metadata": {},
   "outputs": [
    {
     "data": {
      "text/plain": [
       "'1.16.2'"
      ]
     },
     "execution_count": 2,
     "metadata": {},
     "output_type": "execute_result"
    }
   ],
   "source": [
    "# your code here\n",
    "np.version.version"
   ]
  },
  {
   "cell_type": "markdown",
   "metadata": {},
   "source": [
    "#### 3. Generate a 2x3x5 3-dimensional array with random values. Assign the array to variable *a*.\n",
    "**Challenge**: there are at least three easy ways that use numpy to generate random arrays. How many ways can you find?"
   ]
  },
  {
   "cell_type": "code",
   "execution_count": 3,
   "metadata": {},
   "outputs": [
    {
     "name": "stdout",
     "output_type": "stream",
     "text": [
      "0.8232873005763311\n",
      "[[[0.06114742 0.73234407 0.47244878 0.93225552 0.91987134]\n",
      "  [0.72508056 0.63497278 0.0944747  0.51214172 0.29779395]\n",
      "  [0.28821707 0.1427149  0.39776378 0.2981685  0.64774396]]\n",
      "\n",
      " [[0.38378062 0.17924507 0.50703891 0.31066234 0.23804285]\n",
      "  [0.3760428  0.68063817 0.73713414 0.49713936 0.20865808]\n",
      "  [0.28947388 0.97519497 0.5789243  0.34374192 0.02823676]]]\n"
     ]
    },
    {
     "data": {
      "text/plain": [
       "(2, 3, 5)"
      ]
     },
     "execution_count": 3,
     "metadata": {},
     "output_type": "execute_result"
    }
   ],
   "source": [
    "# Method 1: CONSTRUC the matrix put each value one by one: too slow, not efficient, (I think)\n",
    "\n",
    "\n",
    "\n",
    "###   x*y*z--> x paragrapahs with  y sentences with z words\n",
    "\n",
    "import random\n",
    "n1 =random.random()\n",
    "print(n1)\n",
    "a = np.array([\n",
    "                [[random.random(), random.random(),random.random(),random.random(),random.random()],\n",
    "                [random.random(),random.random(),random.random(),random.random(),random.random()],\n",
    "                [random.random(),random.random(),random.random(),random.random(),random.random()]],\n",
    "    \n",
    "                [[random.random(),random.random(),random.random(),random.random(),random.random()],\n",
    "                [random.random(),random.random(),random.random(),random.random(),random.random()],\n",
    "                [random.random(),random.random(),random.random(),random.random(),random.random()]]\n",
    "            ])\n",
    "print(a)\n",
    "a.shape\n"
   ]
  },
  {
   "cell_type": "code",
   "execution_count": null,
   "metadata": {},
   "outputs": [],
   "source": [
    "# Method 2: defines the range with we want to fill the matrix (start, stop, step) in a multidimensional \n",
    "##array(matrix) of x*y*z size\n",
    "import random \n",
    "\n",
    "##x**y*z has to fit with the difference between stop-start (take into account the steps: 1 by default)\n",
    "\n",
    "\n",
    "#################\n",
    "#1s method found (step by step): create a matrix and the, multiply by a random value.\n",
    "\n",
    "a = np.arange(30,90,2).reshape(2,3,5) ##we create a multidimensional array of 2*3*5 size\n",
    "print(f'{a}\\n Now we multiply by a random values (\\n\\na by int random values and b matrix by float random values\\n\\n')\n",
    "\n",
    "\n",
    "###################################\n",
    "##the new matrix is multiplied by a INT random value, each matrix value by a different random value.\n",
    "a = (a*random.randint(0,10)) \n",
    "\n",
    "\n",
    "####################################\n",
    "##the new matrix is multiplied by a FLOAT random value, each matrix value by a different random value.\n",
    "b = a*round(random.random(),2) \n",
    "#round is a function to limit the number in just 2 decimals\n",
    "\n",
    "\n",
    "print(f'#################################### \\n a = {a} \\n\\n a is a matrix created with int random values\\n\\n\\n')\n",
    "\n",
    "print(f'#################################### \\n b = {b} \\n\\n b is a matrix created with float random values with just 2 decimals')\n"
   ]
  },
  {
   "cell_type": "code",
   "execution_count": 4,
   "metadata": {},
   "outputs": [
    {
     "name": "stdout",
     "output_type": "stream",
     "text": [
      "####################################\n",
      "\n",
      "matrix a = \n",
      "\n",
      "[[[25 12 15 21  4]\n",
      "  [29 21  0 25 19]\n",
      "  [25 13  8 18 16]]\n",
      "\n",
      " [[ 1 15 28 18 14]\n",
      "  [ 9 29 23 14 13]\n",
      "  [29  5 22 19  1]]]\n",
      "\n",
      " made by int random numbers\n",
      "\n",
      "\n",
      "#################################### \n",
      "\n",
      "matrix b = \n",
      "\n",
      "[[[0.09284449 0.26941188 0.08087476 0.36558592 0.84788583]\n",
      "  [0.68822122 0.65256056 0.74486198 0.19068244 0.88250887]\n",
      "  [0.47002313 0.30582887 0.78046693 0.34190087 0.4978658 ]]\n",
      "\n",
      " [[0.51706091 0.33337978 0.64370429 0.12659307 0.62936202]\n",
      "  [0.24890607 0.45559942 0.03995701 0.28249706 0.17339374]\n",
      "  [0.27951464 0.5679484  0.41265339 0.90244563 0.23233516]]]\n",
      "\n",
      " made by float random numbers\n"
     ]
    }
   ],
   "source": [
    "# Method 2\n",
    "\n",
    "#################\n",
    "#2nd method found (strigthway): create a x*y*z matrix with random values from a determinate range.\n",
    "\n",
    "\n",
    "\n",
    "a = np.random.randint(0, 30, size=[2,3,5])\n",
    "\n",
    "print(f'####################################\\n\\nmatrix a = \\n\\n{a}\\n\\n made by int random numbers\\n\\n')\n",
    "\n",
    "\n",
    "b = np.random.random(size=[2,3,5])\n",
    "\n",
    "print(f'#################################### \\n\\nmatrix b = \\n\\n{b}\\n\\n made by float random numbers')\n",
    "\n",
    "\n"
   ]
  },
  {
   "cell_type": "code",
   "execution_count": null,
   "metadata": {},
   "outputs": [],
   "source": [
    "# Method 3\n"
   ]
  },
  {
   "cell_type": "markdown",
   "metadata": {},
   "source": [
    "#### 4. Print *a*.\n"
   ]
  },
  {
   "cell_type": "code",
   "execution_count": 5,
   "metadata": {},
   "outputs": [
    {
     "name": "stdout",
     "output_type": "stream",
     "text": [
      "[[[25 12 15 21  4]\n",
      "  [29 21  0 25 19]\n",
      "  [25 13  8 18 16]]\n",
      "\n",
      " [[ 1 15 28 18 14]\n",
      "  [ 9 29 23 14 13]\n",
      "  [29  5 22 19  1]]]\n"
     ]
    }
   ],
   "source": [
    "# your code here\n",
    "print (a)"
   ]
  },
  {
   "cell_type": "markdown",
   "metadata": {},
   "source": [
    "#### 5. Create a 5x2x3 3-dimensional array with all values equaling 1. Assign the array to variable *b*."
   ]
  },
  {
   "cell_type": "code",
   "execution_count": 6,
   "metadata": {},
   "outputs": [
    {
     "name": "stdout",
     "output_type": "stream",
     "text": [
      "[[[1 1 1]\n",
      "  [1 1 1]]\n",
      "\n",
      " [[1 1 1]\n",
      "  [1 1 1]]\n",
      "\n",
      " [[1 1 1]\n",
      "  [1 1 1]]\n",
      "\n",
      " [[1 1 1]\n",
      "  [1 1 1]]\n",
      "\n",
      " [[1 1 1]\n",
      "  [1 1 1]]]\n",
      "\n",
      "\n",
      "matriz size of a = (5, 2, 3)\n"
     ]
    }
   ],
   "source": [
    "# your code here\n",
    "a =np.ones([5,2,3],dtype=np.int32) ##dtype=np.int32 to specify we want int, no floats as create by default\n",
    "\n",
    "print(a)\n",
    "print(f'\\n\\nmatriz size of a = {a.shape}')\n",
    "\n",
    "b = a\n"
   ]
  },
  {
   "cell_type": "markdown",
   "metadata": {},
   "source": [
    "#### 6. Print *b*.\n"
   ]
  },
  {
   "cell_type": "code",
   "execution_count": 7,
   "metadata": {},
   "outputs": [
    {
     "name": "stdout",
     "output_type": "stream",
     "text": [
      "[[[1 1 1]\n",
      "  [1 1 1]]\n",
      "\n",
      " [[1 1 1]\n",
      "  [1 1 1]]\n",
      "\n",
      " [[1 1 1]\n",
      "  [1 1 1]]\n",
      "\n",
      " [[1 1 1]\n",
      "  [1 1 1]]\n",
      "\n",
      " [[1 1 1]\n",
      "  [1 1 1]]]\n",
      "\n",
      "\n",
      "matriz size of b= (5, 2, 3)\n"
     ]
    }
   ],
   "source": [
    "# your code here\n",
    "print(b)\n",
    "print(f'\\n\\nmatriz size of b= {b.shape}')"
   ]
  },
  {
   "cell_type": "markdown",
   "metadata": {},
   "source": [
    "#### 7. Do *a* and *b* have the same size? How do you prove that in Python code?"
   ]
  },
  {
   "cell_type": "code",
   "execution_count": 8,
   "metadata": {},
   "outputs": [
    {
     "name": "stdout",
     "output_type": "stream",
     "text": [
      "Taking a matrix A: \n",
      "\n",
      "    a*  = transponse of A.\n",
      "    \n",
      "    *a = A\n",
      "    \n",
      "False\n",
      "shape of a* = (3, 2, 5), shape of *b = (5, 2, 3)\n"
     ]
    }
   ],
   "source": [
    "# your code here\n",
    "print('''Taking a matrix A: \n",
    "\n",
    "    a*  = transponse of A.\n",
    "    \n",
    "    *a = A\n",
    "    ''')\n",
    "\n",
    "\n",
    "a_ = a.transpose() ##Definition of the transpose matrix of a and b, so-called (a*,b*)\n",
    "b_ = b.transpose()\n",
    "\n",
    "if a.shape == b_.shape:\n",
    "    print(True)\n",
    "    print(f'shape of a* and *b = {a_.shape}')\n",
    "else:\n",
    "    print(False)\n",
    "    print(f'shape of a* = {a_.shape}, shape of *b = {b.shape}')\n"
   ]
  },
  {
   "cell_type": "markdown",
   "metadata": {},
   "source": [
    "#### 8. Are you able to add *a* and *b*? Why or why not?\n"
   ]
  },
  {
   "cell_type": "code",
   "execution_count": 11,
   "metadata": {},
   "outputs": [
    {
     "name": "stdout",
     "output_type": "stream",
     "text": [
      "Taking a matrix A: \n",
      "\n",
      "    a*  = transponse of A.\n",
      "    \n",
      "    *a = A\n",
      "    \n",
      "According with Algebra, we just can add or substract(sum or rest) elements between matrices when their dimensions are the same. \n",
      "\n",
      "Therefore, WE JUST CAN OPERATE BETWEEN (a,b) and the group of their transpose (a_,b_): not between both groups.\n",
      "    \n",
      "\n",
      "matrix size of *a = (5, 2, 3)\n",
      "\n",
      "\n",
      "\n",
      "\n",
      "\n",
      "matrix size of *b = (5, 2, 3)\n",
      "\n",
      "\n",
      "\n",
      "\n",
      "\n",
      "matrix size of a* = (3, 2, 5)\n",
      "\n",
      "\n",
      "\n",
      "\n",
      "\n",
      "matrix size of b* = (3, 2, 5)\n",
      "\n",
      "\n"
     ]
    }
   ],
   "source": [
    "# your answer here\n",
    "\n",
    "\n",
    "print('''Taking a matrix A: \n",
    "\n",
    "    a*  = transponse of A.\n",
    "    \n",
    "    *a = A\n",
    "    ''')\n",
    "\n",
    "print('''According with Algebra, we just can add or substract(sum or rest) elements between matrices when their dimensions are the same. \\n\\nTherefore, WE JUST CAN OPERATE BETWEEN (a,b) and the group of their transpose (a_,b_): not between both groups.\n",
    "    ''')\n",
    "\n",
    "#print(a)\n",
    "print(f'\\nmatrix size of *a = {a.shape}\\n\\n\\n\\n')\n",
    "\n",
    "#print(b)\n",
    "print(f'\\nmatrix size of *b = {b.shape}\\n\\n\\n\\n')\n",
    "\n",
    "\n",
    "a_ = a.transpose()\n",
    "#print(a_)\n",
    "print(f'\\nmatrix size of a* = {a_.shape}\\n\\n\\n\\n')\n",
    "\n",
    "\n",
    "\n",
    "b_= b.transpose()\n",
    "#print(b_)\n",
    "print(f'\\nmatrix size of b* = {b_.shape}\\n\\n')\n"
   ]
  },
  {
   "cell_type": "markdown",
   "metadata": {},
   "source": [
    "#### 9. Transpose *b* so that it has the same structure of *a* (i.e. become a 2x3x5 array). Assign the transposed array to variable *c*."
   ]
  },
  {
   "cell_type": "code",
   "execution_count": 12,
   "metadata": {},
   "outputs": [
    {
     "name": "stdout",
     "output_type": "stream",
     "text": [
      "\n",
      "matrix size of b* = (3, 2, 5)\n",
      "\n",
      "\n",
      "\n",
      "matrix size of c = (5, 2, 3)\n",
      "\n",
      "\n"
     ]
    }
   ],
   "source": [
    "# your code here\n",
    "\n",
    "print(f'\\nmatrix size of b* = {b_.shape}\\n\\n')\n",
    "\n",
    "c = b_.transpose()\n",
    "\n",
    "\n",
    "#print(c)\n",
    "print(f'\\nmatrix size of c = {c.shape}\\n\\n')\n"
   ]
  },
  {
   "cell_type": "markdown",
   "metadata": {},
   "source": [
    "#### 10. Try to add *a* and *c*. Now it should work. Assign the sum to variable *d*. But why does it work now?"
   ]
  },
  {
   "cell_type": "code",
   "execution_count": 15,
   "metadata": {},
   "outputs": [
    {
     "name": "stdout",
     "output_type": "stream",
     "text": [
      "\n",
      "    \n",
      "    It isn't going to work because the size of a* = (3, 2, 5) and the size of c = (5, 2, 3).\n",
      "    \n",
      "    But let's check it anyway...\n",
      "    \n",
      "     \n"
     ]
    }
   ],
   "source": [
    "# your code/answer here\n",
    "   \n",
    "print(f'''\n",
    "    \n",
    "    It isn't going to work because the size of a* = {a_.shape} and the size of c = {c.shape}.\n",
    "    \n",
    "    But let's check it anyway...\n",
    "    \n",
    "     ''')\n"
   ]
  },
  {
   "cell_type": "code",
   "execution_count": 14,
   "metadata": {},
   "outputs": [
    {
     "ename": "ValueError",
     "evalue": "operands could not be broadcast together with shapes (3,2,5) (5,2,3) ",
     "output_type": "error",
     "traceback": [
      "\u001b[0;31m---------------------------------------------------------------------------\u001b[0m",
      "\u001b[0;31mValueError\u001b[0m                                Traceback (most recent call last)",
      "\u001b[0;32m<ipython-input-14-c1b36ceab6a4>\u001b[0m in \u001b[0;36m<module>\u001b[0;34m\u001b[0m\n\u001b[0;32m----> 1\u001b[0;31m \u001b[0md\u001b[0m \u001b[0;34m=\u001b[0m \u001b[0ma_\u001b[0m \u001b[0;34m+\u001b[0m \u001b[0mc\u001b[0m\u001b[0;34m\u001b[0m\u001b[0;34m\u001b[0m\u001b[0m\n\u001b[0m\u001b[1;32m      2\u001b[0m \u001b[0mprint\u001b[0m\u001b[0;34m(\u001b[0m\u001b[0md\u001b[0m\u001b[0;34m)\u001b[0m\u001b[0;34m\u001b[0m\u001b[0;34m\u001b[0m\u001b[0m\n\u001b[1;32m      3\u001b[0m \u001b[0mprint\u001b[0m\u001b[0;34m(\u001b[0m\u001b[0;34mf'\\nmatrix size of d = {d.shape}\\n\\n'\u001b[0m\u001b[0;34m)\u001b[0m\u001b[0;34m\u001b[0m\u001b[0;34m\u001b[0m\u001b[0m\n\u001b[1;32m      4\u001b[0m \u001b[0mprint\u001b[0m\u001b[0;34m(\u001b[0m\u001b[0;34mf'it does not work because the size of a* = {a_.shape} and the size of c = {c.shape} '\u001b[0m\u001b[0;34m)\u001b[0m\u001b[0;34m\u001b[0m\u001b[0;34m\u001b[0m\u001b[0m\n",
      "\u001b[0;31mValueError\u001b[0m: operands could not be broadcast together with shapes (3,2,5) (5,2,3) "
     ]
    }
   ],
   "source": [
    "d = a_ + c\n",
    "print(d)\n",
    "print(f'\\nmatrix size of d = {d.shape}\\n\\n')\n",
    "print(f'it does not work because the size of a* = {a_.shape} and the size of c = {c.shape} ')\n"
   ]
  },
  {
   "cell_type": "markdown",
   "metadata": {},
   "source": [
    "#### 11. Print *a* and *d*. Notice the difference and relation of the two array in terms of the values? Explain."
   ]
  },
  {
   "cell_type": "code",
   "execution_count": 17,
   "metadata": {},
   "outputs": [
    {
     "name": "stdout",
     "output_type": "stream",
     "text": [
      "\n",
      "\n",
      "the size of \"a*\"\" = (3, 2, 5) and the size of \"c\" = (5, 2, 3) and the size of \"d\" should be the same of the sum or rest of two elements involved it in.\n",
      "In this case d will just exist if we sum \"a*\" and \"c*\"\" or \"*a\" and \"*c\"\n",
      "\n",
      "    \n",
      " matrix *d = \n",
      " [[[2 2 2]\n",
      "  [2 2 2]]\n",
      "\n",
      " [[2 2 2]\n",
      "  [2 2 2]]\n",
      "\n",
      " [[2 2 2]\n",
      "  [2 2 2]]\n",
      "\n",
      " [[2 2 2]\n",
      "  [2 2 2]]\n",
      "\n",
      " [[2 2 2]\n",
      "  [2 2 2]]]\n",
      " with a size of (5, 2, 3)\n",
      "\n",
      "\n",
      "matrix d* = \n",
      " [[[2 2 2 2 2]\n",
      "  [2 2 2 2 2]]\n",
      "\n",
      " [[2 2 2 2 2]\n",
      "  [2 2 2 2 2]]\n",
      "\n",
      " [[2 2 2 2 2]\n",
      "  [2 2 2 2 2]]]\n",
      " with a size of (3, 2, 5)\n"
     ]
    }
   ],
   "source": [
    "# your code/answer here\n",
    "\n",
    "print(f'''\n",
    "\n",
    "the size of \"a*\"\" = {a_.shape} and the size of \"c\" = {c.shape} and the size of \"d\" should be the same of the sum or rest of two elements involved it in.\n",
    "In this case d will just exist if we sum \"a*\" and \"c*\"\" or \"*a\" and \"*c\"\n",
    "\n",
    "    ''')\n",
    "\n",
    "d = a + c\n",
    "\n",
    "print(f' matrix *d = \\n {d}\\n with a size of {d.shape}')\n",
    "\n",
    "c_ = c.transpose()\n",
    "d_ = a_ + c_\n",
    "\n",
    "print(f'\\n\\nmatrix d* = \\n {d_}\\n with a size of {d_.shape}')\n",
    "      "
   ]
  },
  {
   "cell_type": "markdown",
   "metadata": {},
   "source": [
    "#### 12. Multiply *a* and *c*. Assign the result to *e*."
   ]
  },
  {
   "cell_type": "code",
   "execution_count": 32,
   "metadata": {},
   "outputs": [
    {
     "name": "stdout",
     "output_type": "stream",
     "text": [
      "\n",
      "    I think there is a mistake because just can multiply (*a, *c) or (a*,c*) for the dimensions matching. Is it right?.\n",
      "    \n",
      "    Let's work under this premise....\n",
      "\n"
     ]
    },
    {
     "ename": "ValueError",
     "evalue": "shapes (3,2,5) and (5,2,3) not aligned: 5 (dim 2) != 2 (dim 1)",
     "output_type": "error",
     "traceback": [
      "\u001b[0;31m---------------------------------------------------------------------------\u001b[0m",
      "\u001b[0;31mValueError\u001b[0m                                Traceback (most recent call last)",
      "\u001b[0;32m<ipython-input-32-c108b3cea227>\u001b[0m in \u001b[0;36m<module>\u001b[0;34m\u001b[0m\n\u001b[1;32m      9\u001b[0m \u001b[0;34m\u001b[0m\u001b[0m\n\u001b[1;32m     10\u001b[0m \u001b[0;34m\u001b[0m\u001b[0m\n\u001b[0;32m---> 11\u001b[0;31m \u001b[0me\u001b[0m\u001b[0;34m=\u001b[0m \u001b[0mnp\u001b[0m\u001b[0;34m.\u001b[0m\u001b[0mdot\u001b[0m\u001b[0;34m(\u001b[0m\u001b[0ma_\u001b[0m\u001b[0;34m,\u001b[0m\u001b[0mc\u001b[0m\u001b[0;34m)\u001b[0m\u001b[0;34m\u001b[0m\u001b[0;34m\u001b[0m\u001b[0m\n\u001b[0m\u001b[1;32m     12\u001b[0m \u001b[0;34m\u001b[0m\u001b[0m\n\u001b[1;32m     13\u001b[0m \u001b[0mprint\u001b[0m\u001b[0;34m(\u001b[0m\u001b[0;34mf'\\n\\nmatrix *e = \\n {e}\\n with a size of {e.shape}'\u001b[0m\u001b[0;34m)\u001b[0m\u001b[0;34m\u001b[0m\u001b[0;34m\u001b[0m\u001b[0m\n",
      "\u001b[0;31mValueError\u001b[0m: shapes (3,2,5) and (5,2,3) not aligned: 5 (dim 2) != 2 (dim 1)"
     ]
    }
   ],
   "source": [
    "# your code here\n",
    "######POSSIBLE MISTAKE here...??\n",
    "\n",
    "print(f'''\n",
    "    I think there is a mistake because just can multiply (*a, *c) or (a*,c*) for the dimensions matching. Is it right?.\n",
    "    \n",
    "    Let's work under this premise....\n",
    "''')\n",
    "\n",
    "\n",
    "e= np.dot(a_,c)\n",
    "\n",
    "print(f'\\n\\nmatrix *e = \\n {e}\\n with a size of {e.shape}')\n",
    "\n",
    "e_= a_ * c\n",
    "\n",
    "print(f'\\n\\nmatrix e* = \\n {e_}\\n with a size of {e_.shape}')\n",
    "\n"
   ]
  },
  {
   "cell_type": "markdown",
   "metadata": {},
   "source": [
    "#### 13. Does *e* equal to *a*? Why or why not?\n"
   ]
  },
  {
   "cell_type": "code",
   "execution_count": 31,
   "metadata": {},
   "outputs": [
    {
     "name": "stdout",
     "output_type": "stream",
     "text": [
      "False\n",
      "shape of a* = (3, 2, 5), shape of *b = (5, 2, 3)\n"
     ]
    }
   ],
   "source": [
    "# your code/answer here\n",
    "\n",
    "if a.shape == b_.shape:\n",
    "    print(True)\n",
    "    print(f'shape of a* and *b = {a_.shape}')\n",
    "else:\n",
    "    print(False)\n",
    "    print(f'shape of a* = {a_.shape}, shape of *b = {b.shape}')"
   ]
  },
  {
   "cell_type": "markdown",
   "metadata": {},
   "source": [
    "#### 14. Identify the max, min, and mean values in *d*. Assign those values to variables *d_max*, *d_min* and *d_mean*."
   ]
  },
  {
   "cell_type": "code",
   "execution_count": 33,
   "metadata": {},
   "outputs": [
    {
     "ename": "AttributeError",
     "evalue": "'list' object has no attribute 'shape'",
     "output_type": "error",
     "traceback": [
      "\u001b[0;31m---------------------------------------------------------------------------\u001b[0m",
      "\u001b[0;31mAttributeError\u001b[0m                            Traceback (most recent call last)",
      "\u001b[0;32m<ipython-input-33-37d8873b71a8>\u001b[0m in \u001b[0;36m<module>\u001b[0;34m\u001b[0m\n\u001b[1;32m      3\u001b[0m \u001b[0mmat1\u001b[0m \u001b[0;34m=\u001b[0m \u001b[0;34m[\u001b[0m\u001b[0;34m[\u001b[0m\u001b[0;36m1\u001b[0m\u001b[0;34m,\u001b[0m \u001b[0;36m6\u001b[0m\u001b[0;34m,\u001b[0m \u001b[0;36m5\u001b[0m\u001b[0;34m]\u001b[0m\u001b[0;34m,\u001b[0m\u001b[0;34m[\u001b[0m\u001b[0;36m3\u001b[0m \u001b[0;34m,\u001b[0m\u001b[0;36m4\u001b[0m\u001b[0;34m,\u001b[0m \u001b[0;36m8\u001b[0m\u001b[0;34m]\u001b[0m\u001b[0;34m,\u001b[0m\u001b[0;34m[\u001b[0m\u001b[0;36m2\u001b[0m\u001b[0;34m,\u001b[0m \u001b[0;36m12\u001b[0m\u001b[0;34m,\u001b[0m \u001b[0;36m3\u001b[0m\u001b[0;34m]\u001b[0m\u001b[0;34m]\u001b[0m\u001b[0;34m\u001b[0m\u001b[0;34m\u001b[0m\u001b[0m\n\u001b[1;32m      4\u001b[0m \u001b[0mmat2\u001b[0m \u001b[0;34m=\u001b[0m \u001b[0;34m(\u001b[0m\u001b[0;34m[\u001b[0m\u001b[0;36m3\u001b[0m\u001b[0;34m,\u001b[0m \u001b[0;36m4\u001b[0m\u001b[0;34m,\u001b[0m \u001b[0;36m6\u001b[0m\u001b[0;34m]\u001b[0m\u001b[0;34m,\u001b[0m\u001b[0;34m[\u001b[0m\u001b[0;36m5\u001b[0m\u001b[0;34m,\u001b[0m \u001b[0;36m6\u001b[0m\u001b[0;34m,\u001b[0m \u001b[0;36m7\u001b[0m\u001b[0;34m]\u001b[0m\u001b[0;34m,\u001b[0m\u001b[0;34m[\u001b[0m\u001b[0;36m6\u001b[0m\u001b[0;34m,\u001b[0m\u001b[0;36m56\u001b[0m\u001b[0;34m,\u001b[0m \u001b[0;36m7\u001b[0m\u001b[0;34m]\u001b[0m\u001b[0;34m)\u001b[0m\u001b[0;34m\u001b[0m\u001b[0;34m\u001b[0m\u001b[0m\n\u001b[0;32m----> 5\u001b[0;31m \u001b[0mprint\u001b[0m\u001b[0;34m(\u001b[0m\u001b[0mmat1\u001b[0m\u001b[0;34m.\u001b[0m\u001b[0mshape\u001b[0m\u001b[0;34m)\u001b[0m\u001b[0;34m\u001b[0m\u001b[0;34m\u001b[0m\u001b[0m\n\u001b[0m\u001b[1;32m      6\u001b[0m \u001b[0mprint\u001b[0m\u001b[0;34m(\u001b[0m\u001b[0mmat2\u001b[0m\u001b[0;34m.\u001b[0m\u001b[0mshape\u001b[0m\u001b[0;34m)\u001b[0m\u001b[0;34m\u001b[0m\u001b[0;34m\u001b[0m\u001b[0m\n\u001b[1;32m      7\u001b[0m \u001b[0mres\u001b[0m \u001b[0;34m=\u001b[0m \u001b[0mnp\u001b[0m\u001b[0;34m.\u001b[0m\u001b[0mdot\u001b[0m\u001b[0;34m(\u001b[0m\u001b[0mmat1\u001b[0m\u001b[0;34m,\u001b[0m\u001b[0mmat2\u001b[0m\u001b[0;34m)\u001b[0m\u001b[0;34m\u001b[0m\u001b[0;34m\u001b[0m\u001b[0m\n",
      "\u001b[0;31mAttributeError\u001b[0m: 'list' object has no attribute 'shape'"
     ]
    }
   ],
   "source": [
    "# your code here\n",
    "\n",
    "mat1 = [[1, 6, 5],[3 ,4, 8],[2, 12, 3]]\n",
    "mat2 = ([3, 4, 6],[5, 6, 7],[6,56, 7]) \n",
    "print(mat1.shape)\n",
    "print(mat2.shape)\n",
    "res = np.dot(mat1,mat2) \n",
    "print(res)"
   ]
  },
  {
   "cell_type": "markdown",
   "metadata": {},
   "source": [
    "#### 15. Now we want to label the values in *d*. First create an empty array *f* with the same shape (i.e. 2x3x5) as *d* using `np.empty`.\n"
   ]
  },
  {
   "cell_type": "code",
   "execution_count": null,
   "metadata": {},
   "outputs": [],
   "source": [
    "# your code here"
   ]
  },
  {
   "cell_type": "markdown",
   "metadata": {},
   "source": [
    "#### 16. Populate the values in *f*. \n",
    "\n",
    "For each value in *d*, if it's larger than *d_min* but smaller than *d_mean*, assign 25 to the corresponding value in *f*. If a value in *d* is larger than *d_mean* but smaller than *d_max*, assign 75 to the corresponding value in *f*. If a value equals to *d_mean*, assign 50 to the corresponding value in *f*. Assign 0 to the corresponding value(s) in *f* for *d_min* in *d*. Assign 100 to the corresponding value(s) in *f* for *d_max* in *d*. In the end, f should have only the following values: 0, 25, 50, 75, and 100.\n",
    "\n",
    "**Note**: you don't have to use Numpy in this question."
   ]
  },
  {
   "cell_type": "code",
   "execution_count": null,
   "metadata": {},
   "outputs": [],
   "source": [
    "# your code here"
   ]
  },
  {
   "cell_type": "markdown",
   "metadata": {},
   "source": [
    "#### 17. Print *d* and *f*. Do you have your expected *f*?\n",
    "For instance, if your *d* is:\n",
    "```python\n",
    "[[[1.85836099, 1.67064465, 1.62576044, 1.40243961, 1.88454931],\n",
    "[1.75354326, 1.69403643, 1.36729252, 1.61415071, 1.12104981],\n",
    "[1.72201435, 1.1862918 , 1.87078449, 1.7726778 , 1.88180042]],\n",
    "[[1.44747908, 1.31673383, 1.02000951, 1.52218947, 1.97066381],\n",
    "[1.79129243, 1.74983003, 1.96028037, 1.85166831, 1.65450881],\n",
    "[1.18068344, 1.9587381 , 1.00656599, 1.93402165, 1.73514584]]]\n",
    "```\n",
    "Your *f* should be:\n",
    "```python\n",
    "[[[ 75.,  75.,  75.,  25.,  75.],\n",
    "[ 75.,  75.,  25.,  25.,  25.],\n",
    "[ 75.,  25.,  75.,  75.,  75.]],\n",
    "[[ 25.,  25.,  25.,  25., 100.],\n",
    "[ 75.,  75.,  75.,  75.,  75.],\n",
    "[ 25.,  75.,   0.,  75.,  75.]]]\n",
    "```"
   ]
  },
  {
   "cell_type": "code",
   "execution_count": null,
   "metadata": {},
   "outputs": [],
   "source": [
    "# your code here"
   ]
  },
  {
   "cell_type": "markdown",
   "metadata": {},
   "source": [
    "#### 18. Bonus question: instead of using numbers (i.e. 0, 25, 50, 75, and 100), use string values  (\"A\", \"B\", \"C\", \"D\", and \"E\") to label the array elements. For the example above, the expected result is:\n",
    "\n",
    "```python\n",
    "[[[ 'D',  'D',  'D',  'B',  'D'],\n",
    "[ 'D',  'D',  'B',  'B',  'B'],\n",
    "[ 'D',  'B',  'D',  'D',  'D']],\n",
    "[[ 'B',  'B',  'B',  'B',  'E'],\n",
    "[ 'D',  'D',  'D',  'D',  'D'],\n",
    "[ 'B',  'D',   'A',  'D', 'D']]]\n",
    "```\n",
    "**Note**: you don't have to use Numpy in this question."
   ]
  },
  {
   "cell_type": "code",
   "execution_count": null,
   "metadata": {},
   "outputs": [],
   "source": [
    "# your code here"
   ]
  }
 ],
 "metadata": {
  "kernelspec": {
   "display_name": "Python 3",
   "language": "python",
   "name": "python3"
  },
  "language_info": {
   "codemirror_mode": {
    "name": "ipython",
    "version": 3
   },
   "file_extension": ".py",
   "mimetype": "text/x-python",
   "name": "python",
   "nbconvert_exporter": "python",
   "pygments_lexer": "ipython3",
   "version": "3.7.3"
  }
 },
 "nbformat": 4,
 "nbformat_minor": 2
}
