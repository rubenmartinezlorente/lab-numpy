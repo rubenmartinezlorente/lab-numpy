{
 "cells": [
  {
   "cell_type": "markdown",
   "metadata": {},
   "source": [
    "# Intrduction to NumPy\n",
    "\n",
    "\n",
    "#### 1. Import NumPy under the name np."
   ]
  },
  {
   "cell_type": "code",
   "execution_count": 1,
   "metadata": {},
   "outputs": [],
   "source": [
    "# your code here\n",
    "import numpy as np"
   ]
  },
  {
   "cell_type": "markdown",
   "metadata": {},
   "source": [
    "#### 2. Print your NumPy version."
   ]
  },
  {
   "cell_type": "code",
   "execution_count": 2,
   "metadata": {},
   "outputs": [
    {
     "data": {
      "text/plain": [
       "'1.16.2'"
      ]
     },
     "execution_count": 2,
     "metadata": {},
     "output_type": "execute_result"
    }
   ],
   "source": [
    "# your code here\n",
    "np.version.version"
   ]
  },
  {
   "cell_type": "markdown",
   "metadata": {},
   "source": [
    "#### 3. Generate a 2x3x5 3-dimensional array with random values. Assign the array to variable *a*.\n",
    "**Challenge**: there are at least three easy ways that use numpy to generate random arrays. How many ways can you find?"
   ]
  },
  {
   "cell_type": "code",
   "execution_count": 3,
   "metadata": {},
   "outputs": [
    {
     "name": "stdout",
     "output_type": "stream",
     "text": [
      "0.5329524295789884\n",
      "[[[0.25612972 0.48862044 0.26368238 0.39528949 0.39263036]\n",
      "  [0.77900529 0.29778166 0.79286158 0.01235485 0.99411498]\n",
      "  [0.32944758 0.7149717  0.40176047 0.6519412  0.50005026]]\n",
      "\n",
      " [[0.81221147 0.94972073 0.71202638 0.93935306 0.0119556 ]\n",
      "  [0.84237367 0.99608503 0.61738161 0.1707322  0.3874545 ]\n",
      "  [0.06130678 0.10388441 0.11779684 0.66990563 0.37301683]]]\n"
     ]
    },
    {
     "data": {
      "text/plain": [
       "(2, 3, 5)"
      ]
     },
     "execution_count": 3,
     "metadata": {},
     "output_type": "execute_result"
    }
   ],
   "source": [
    "# Method 1: CONSTRUC the matrix put each value one by one: too slow, not efficient, (I think)\n",
    "\n",
    "\n",
    "\n",
    "###   x*y*z--> x paragrapahs with  y sentences with z words\n",
    "\n",
    "import random\n",
    "n1 =random.random()\n",
    "print(n1)\n",
    "a = np.array([\n",
    "                [[random.random(), random.random(),random.random(),random.random(),random.random()],\n",
    "                [random.random(),random.random(),random.random(),random.random(),random.random()],\n",
    "                [random.random(),random.random(),random.random(),random.random(),random.random()]],\n",
    "    \n",
    "                [[random.random(),random.random(),random.random(),random.random(),random.random()],\n",
    "                [random.random(),random.random(),random.random(),random.random(),random.random()],\n",
    "                [random.random(),random.random(),random.random(),random.random(),random.random()]]\n",
    "            ])\n",
    "print(a)\n",
    "a.shape\n"
   ]
  },
  {
   "cell_type": "code",
   "execution_count": 4,
   "metadata": {},
   "outputs": [
    {
     "name": "stdout",
     "output_type": "stream",
     "text": [
      "[[[30 32 34 36 38]\n",
      "  [40 42 44 46 48]\n",
      "  [50 52 54 56 58]]\n",
      "\n",
      " [[60 62 64 66 68]\n",
      "  [70 72 74 76 78]\n",
      "  [80 82 84 86 88]]]\n",
      " Now we multiply by a random values (\n",
      "\n",
      "a by int random values and b matrix by float random values\n",
      "\n",
      "\n",
      "#################################### \n",
      " a = [[[30 32 34 36 38]\n",
      "  [40 42 44 46 48]\n",
      "  [50 52 54 56 58]]\n",
      "\n",
      " [[60 62 64 66 68]\n",
      "  [70 72 74 76 78]\n",
      "  [80 82 84 86 88]]] \n",
      "\n",
      " a is a matrix created with int random values\n",
      "\n",
      "\n",
      "\n",
      "#################################### \n",
      " b = [[[ 4.2   4.48  4.76  5.04  5.32]\n",
      "  [ 5.6   5.88  6.16  6.44  6.72]\n",
      "  [ 7.    7.28  7.56  7.84  8.12]]\n",
      "\n",
      " [[ 8.4   8.68  8.96  9.24  9.52]\n",
      "  [ 9.8  10.08 10.36 10.64 10.92]\n",
      "  [11.2  11.48 11.76 12.04 12.32]]] \n",
      "\n",
      " b is a matrix created with float random values with just 2 decimals\n"
     ]
    }
   ],
   "source": [
    "# Method 2: defines the range with we want to fill the matrix (start, stop, step) in a multidimensional \n",
    "##array(matrix) of x*y*z size\n",
    "import random \n",
    "\n",
    "##x**y*z has to fit with the difference between stop-start (take into account the steps: 1 by default)\n",
    "\n",
    "\n",
    "#################\n",
    "#1s method found (step by step): create a matrix and the, multiply by a random value.\n",
    "\n",
    "a = np.arange(30,90,2).reshape(2,3,5) ##we create a multidimensional array of 2*3*5 size\n",
    "print(f'{a}\\n Now we multiply by a random values (\\n\\na by int random values and b matrix by float random values\\n\\n')\n",
    "\n",
    "\n",
    "###################################\n",
    "##the new matrix is multiplied by a INT random value, each matrix value by a different random value.\n",
    "a = (a*random.randint(0,10)) \n",
    "\n",
    "\n",
    "####################################\n",
    "##the new matrix is multiplied by a FLOAT random value, each matrix value by a different random value.\n",
    "b = a*round(random.random(),2) \n",
    "#round is a function to limit the number in just 2 decimals\n",
    "\n",
    "\n",
    "print(f'#################################### \\n a = {a} \\n\\n a is a matrix created with int random values\\n\\n\\n')\n",
    "\n",
    "print(f'#################################### \\n b = {b} \\n\\n b is a matrix created with float random values with just 2 decimals')\n"
   ]
  },
  {
   "cell_type": "code",
   "execution_count": 5,
   "metadata": {},
   "outputs": [
    {
     "name": "stdout",
     "output_type": "stream",
     "text": [
      "####################################\n",
      "\n",
      "matrix a = \n",
      "\n",
      "[[[30 32 34 36 38]\n",
      "  [40 42 44 46 48]\n",
      "  [50 52 54 56 58]]\n",
      "\n",
      " [[60 62 64 66 68]\n",
      "  [70 72 74 76 78]\n",
      "  [80 82 84 86 88]]]\n",
      "\n",
      " made by int random numbers\n",
      "\n",
      "\n",
      "#################################### \n",
      "\n",
      "matrix b = \n",
      "\n",
      "[[[ 4.2   4.48  4.76  5.04  5.32]\n",
      "  [ 5.6   5.88  6.16  6.44  6.72]\n",
      "  [ 7.    7.28  7.56  7.84  8.12]]\n",
      "\n",
      " [[ 8.4   8.68  8.96  9.24  9.52]\n",
      "  [ 9.8  10.08 10.36 10.64 10.92]\n",
      "  [11.2  11.48 11.76 12.04 12.32]]]\n",
      "\n",
      " made by float random numbers\n"
     ]
    }
   ],
   "source": [
    "# Method 2\n",
    "\n",
    "#################\n",
    "#2nd method found (strigthway): create a x*y*z matrix with random values from a determinate range.\n",
    "\n",
    "\n",
    "\n",
    "c = np.random.randint(0, 50, size=[2,3,5])\n",
    "\n",
    "print(f'####################################\\n\\nmatrix a = \\n\\n{a}\\n\\n made by int random numbers\\n\\n')\n",
    "\n",
    "\n",
    "d = np.random.random(size=[2,3,5])\n",
    "\n",
    "print(f'#################################### \\n\\nmatrix b = \\n\\n{b}\\n\\n made by float random numbers')\n",
    "\n",
    "\n"
   ]
  },
  {
   "cell_type": "code",
   "execution_count": 6,
   "metadata": {},
   "outputs": [],
   "source": [
    "# Method 3\n"
   ]
  },
  {
   "cell_type": "markdown",
   "metadata": {},
   "source": [
    "#### 4. Print *a*.\n"
   ]
  },
  {
   "cell_type": "code",
   "execution_count": 7,
   "metadata": {},
   "outputs": [
    {
     "name": "stdout",
     "output_type": "stream",
     "text": [
      "[[[ 4.2   4.48  4.76  5.04  5.32]\n",
      "  [ 5.6   5.88  6.16  6.44  6.72]\n",
      "  [ 7.    7.28  7.56  7.84  8.12]]\n",
      "\n",
      " [[ 8.4   8.68  8.96  9.24  9.52]\n",
      "  [ 9.8  10.08 10.36 10.64 10.92]\n",
      "  [11.2  11.48 11.76 12.04 12.32]]]\n"
     ]
    }
   ],
   "source": [
    "# your code here\n",
    "a = b ##we choosee the matrix with random float values with 2 decimals\n",
    "print (a)"
   ]
  },
  {
   "cell_type": "markdown",
   "metadata": {},
   "source": [
    "#### 5. Create a 5x2x3 3-dimensional array with all values equaling 1. Assign the array to variable *b*."
   ]
  },
  {
   "cell_type": "code",
   "execution_count": 8,
   "metadata": {},
   "outputs": [
    {
     "name": "stdout",
     "output_type": "stream",
     "text": [
      "[[[ 4.2   4.48  4.76  5.04  5.32]\n",
      "  [ 5.6   5.88  6.16  6.44  6.72]\n",
      "  [ 7.    7.28  7.56  7.84  8.12]]\n",
      "\n",
      " [[ 8.4   8.68  8.96  9.24  9.52]\n",
      "  [ 9.8  10.08 10.36 10.64 10.92]\n",
      "  [11.2  11.48 11.76 12.04 12.32]]]\n",
      "\n",
      "\n",
      "matriz size of a = (2, 3, 5)\n"
     ]
    }
   ],
   "source": [
    "# your code here\n",
    "#a =np.ones([5,2,3],dtype=np.int32) ##dtype=np.int32 to specify we want int, no floats as create by default\n",
    "\n",
    "print(a)\n",
    "print(f'\\n\\nmatriz size of a = {a.shape}')\n",
    "\n",
    "b = a\n"
   ]
  },
  {
   "cell_type": "markdown",
   "metadata": {},
   "source": [
    "#### 6. Print *b*.\n"
   ]
  },
  {
   "cell_type": "code",
   "execution_count": 9,
   "metadata": {},
   "outputs": [
    {
     "name": "stdout",
     "output_type": "stream",
     "text": [
      "[[[ 4.2   4.48  4.76  5.04  5.32]\n",
      "  [ 5.6   5.88  6.16  6.44  6.72]\n",
      "  [ 7.    7.28  7.56  7.84  8.12]]\n",
      "\n",
      " [[ 8.4   8.68  8.96  9.24  9.52]\n",
      "  [ 9.8  10.08 10.36 10.64 10.92]\n",
      "  [11.2  11.48 11.76 12.04 12.32]]]\n",
      "\n",
      "\n",
      "matriz size of b= (2, 3, 5)\n"
     ]
    }
   ],
   "source": [
    "# your code here\n",
    "print(b)\n",
    "print(f'\\n\\nmatriz size of b= {b.shape}')"
   ]
  },
  {
   "cell_type": "markdown",
   "metadata": {},
   "source": [
    "#### 7. Do *a* and *b* have the same size? How do you prove that in Python code?"
   ]
  },
  {
   "cell_type": "code",
   "execution_count": 10,
   "metadata": {},
   "outputs": [
    {
     "name": "stdout",
     "output_type": "stream",
     "text": [
      "Taking a matrix A: \n",
      "\n",
      "    a*  = transponse of A.\n",
      "    \n",
      "    *a = A\n",
      "    \n",
      "False\n",
      "shape of a* = (5, 3, 2), shape of *b = (2, 3, 5)\n"
     ]
    }
   ],
   "source": [
    "# your code here\n",
    "print('''Taking a matrix A: \n",
    "\n",
    "    a*  = transponse of A.\n",
    "    \n",
    "    *a = A\n",
    "    ''')\n",
    "\n",
    "\n",
    "a_ = a.transpose() ##Definition of the transpose matrix of a and b, so-called (a*,b*)\n",
    "b_ = b.transpose()\n",
    "\n",
    "if a.shape == b_.shape:\n",
    "    print(True)\n",
    "    print(f'shape of a* and *b = {a_.shape}')\n",
    "else:\n",
    "    print(False)\n",
    "    print(f'shape of a* = {a_.shape}, shape of *b = {b.shape}')\n"
   ]
  },
  {
   "cell_type": "markdown",
   "metadata": {},
   "source": [
    "#### 8. Are you able to add *a* and *b*? Why or why not?\n"
   ]
  },
  {
   "cell_type": "code",
   "execution_count": 11,
   "metadata": {},
   "outputs": [
    {
     "name": "stdout",
     "output_type": "stream",
     "text": [
      "Taking a matrix A: \n",
      "\n",
      "    a*  = transponse of A.\n",
      "    \n",
      "    *a = A\n",
      "    \n",
      "According with Algebra, we just can add or substract(sum or rest) elements between matrices when their dimensions are the same. \n",
      "\n",
      "Therefore, WE JUST CAN OPERATE BETWEEN (a,b) and the group of their transpose (a_,b_): not between both groups.\n",
      "    \n",
      "\n",
      "matrix size of *a = (2, 3, 5)\n",
      "\n",
      "\n",
      "\n",
      "\n",
      "\n",
      "matrix size of *b = (2, 3, 5)\n",
      "\n",
      "\n",
      "\n",
      "\n",
      "\n",
      "matrix size of a* = (5, 3, 2)\n",
      "\n",
      "\n",
      "\n",
      "\n",
      "\n",
      "matrix size of b* = (5, 3, 2)\n",
      "\n",
      "\n"
     ]
    }
   ],
   "source": [
    "# your answer here\n",
    "\n",
    "\n",
    "print('''Taking a matrix A: \n",
    "\n",
    "    a*  = transponse of A.\n",
    "    \n",
    "    *a = A\n",
    "    ''')\n",
    "\n",
    "print('''According with Algebra, we just can add or substract(sum or rest) elements between matrices when their dimensions are the same. \\n\\nTherefore, WE JUST CAN OPERATE BETWEEN (a,b) and the group of their transpose (a_,b_): not between both groups.\n",
    "    ''')\n",
    "\n",
    "#print(a)\n",
    "print(f'\\nmatrix size of *a = {a.shape}\\n\\n\\n\\n')\n",
    "\n",
    "#print(b)\n",
    "print(f'\\nmatrix size of *b = {b.shape}\\n\\n\\n\\n')\n",
    "\n",
    "\n",
    "a_ = a.transpose()\n",
    "#print(a_)\n",
    "print(f'\\nmatrix size of a* = {a_.shape}\\n\\n\\n\\n')\n",
    "\n",
    "\n",
    "\n",
    "b_= b.transpose()\n",
    "#print(b_)\n",
    "print(f'\\nmatrix size of b* = {b_.shape}\\n\\n')\n"
   ]
  },
  {
   "cell_type": "markdown",
   "metadata": {},
   "source": [
    "#### 9. Transpose *b* so that it has the same structure of *a* (i.e. become a 2x3x5 array). Assign the transposed array to variable *c*."
   ]
  },
  {
   "cell_type": "code",
   "execution_count": 12,
   "metadata": {},
   "outputs": [
    {
     "name": "stdout",
     "output_type": "stream",
     "text": [
      "\n",
      "matrix size of b* = (5, 3, 2)\n",
      "\n",
      "\n",
      "\n",
      "matrix size of c = (2, 3, 5)\n",
      "\n",
      "\n"
     ]
    }
   ],
   "source": [
    "# your code here\n",
    "\n",
    "print(f'\\nmatrix size of b* = {b_.shape}\\n\\n')\n",
    "\n",
    "c = b_.transpose()\n",
    "\n",
    "\n",
    "#print(c)\n",
    "print(f'\\nmatrix size of c = {c.shape}\\n\\n')\n"
   ]
  },
  {
   "cell_type": "markdown",
   "metadata": {},
   "source": [
    "#### 10. Try to add *a* and *c*. Now it should work. Assign the sum to variable *d*. But why does it work now?"
   ]
  },
  {
   "cell_type": "code",
   "execution_count": 13,
   "metadata": {},
   "outputs": [
    {
     "name": "stdout",
     "output_type": "stream",
     "text": [
      "\n",
      "    \n",
      "    It isn't going to work because the size of a* = (5, 3, 2) and the size of c = (2, 3, 5).\n",
      "    \n",
      "    But let's check it anyway...\n",
      "    \n",
      "     \n"
     ]
    }
   ],
   "source": [
    "# your code/answer here\n",
    "   \n",
    "print(f'''\n",
    "    \n",
    "    It isn't going to work because the size of a* = {a_.shape} and the size of c = {c.shape}.\n",
    "    \n",
    "    But let's check it anyway...\n",
    "    \n",
    "     ''')\n"
   ]
  },
  {
   "cell_type": "code",
   "execution_count": 14,
   "metadata": {},
   "outputs": [],
   "source": [
    "#d = a_ + c\n",
    "#print(d)\n",
    "#print(f'\\nmatrix size of d = {d.shape}\\n\\n')\n",
    "#print(f'it does not work because the size of a* = {a_.shape} and the size of c = {c.shape} ')\n"
   ]
  },
  {
   "cell_type": "markdown",
   "metadata": {},
   "source": [
    "#### 11. Print *a* and *d*. Notice the difference and relation of the two array in terms of the values? Explain."
   ]
  },
  {
   "cell_type": "code",
   "execution_count": 15,
   "metadata": {},
   "outputs": [
    {
     "name": "stdout",
     "output_type": "stream",
     "text": [
      "\n",
      "\n",
      "the size of \"a*\"\" = (5, 3, 2) and the size of \"c\" = (2, 3, 5) and the size of \"d\" should be the same of the sum or rest of two elements involved it in.\n",
      "In this case d will just exist if we sum \"a*\" and \"c*\"\" or \"*a\" and \"*c\"\n",
      "\n",
      "    \n",
      " matrix *d = \n",
      " [[[ 8.4   8.96  9.52 10.08 10.64]\n",
      "  [11.2  11.76 12.32 12.88 13.44]\n",
      "  [14.   14.56 15.12 15.68 16.24]]\n",
      "\n",
      " [[16.8  17.36 17.92 18.48 19.04]\n",
      "  [19.6  20.16 20.72 21.28 21.84]\n",
      "  [22.4  22.96 23.52 24.08 24.64]]]\n",
      " with a size of (2, 3, 5)\n",
      "\n",
      "\n",
      "matrix d* = \n",
      " [[[ 8.4  16.8 ]\n",
      "  [11.2  19.6 ]\n",
      "  [14.   22.4 ]]\n",
      "\n",
      " [[ 8.96 17.36]\n",
      "  [11.76 20.16]\n",
      "  [14.56 22.96]]\n",
      "\n",
      " [[ 9.52 17.92]\n",
      "  [12.32 20.72]\n",
      "  [15.12 23.52]]\n",
      "\n",
      " [[10.08 18.48]\n",
      "  [12.88 21.28]\n",
      "  [15.68 24.08]]\n",
      "\n",
      " [[10.64 19.04]\n",
      "  [13.44 21.84]\n",
      "  [16.24 24.64]]]\n",
      " with a size of (5, 3, 2)\n"
     ]
    }
   ],
   "source": [
    "# your code/answer here\n",
    "\n",
    "print(f'''\n",
    "\n",
    "the size of \"a*\"\" = {a_.shape} and the size of \"c\" = {c.shape} and the size of \"d\" should be the same of the sum or rest of two elements involved it in.\n",
    "In this case d will just exist if we sum \"a*\" and \"c*\"\" or \"*a\" and \"*c\"\n",
    "\n",
    "    ''')\n",
    "\n",
    "d = a + c\n",
    "\n",
    "print(f' matrix *d = \\n {d}\\n with a size of {d.shape}')\n",
    "\n",
    "c_ = c.transpose()\n",
    "d_ = a_ + c_\n",
    "\n",
    "print(f'\\n\\nmatrix d* = \\n {d_}\\n with a size of {d_.shape}')\n",
    "      "
   ]
  },
  {
   "cell_type": "markdown",
   "metadata": {},
   "source": [
    "#### 12. Multiply *a* and *c*. Assign the result to *e*."
   ]
  },
  {
   "cell_type": "code",
   "execution_count": 16,
   "metadata": {},
   "outputs": [
    {
     "name": "stdout",
     "output_type": "stream",
     "text": [
      "\n",
      "    I think there is a mistake because just can multiply (*a, *c) or (a*,c*) for the dimensions matching. Is it right?.\n",
      "    \n",
      "    Let's work under this premise....\n",
      "\n",
      "\n",
      "\n",
      "matrix *e(a*,c) = \n",
      "\n",
      " [[516.264 612.304 708.344]\n",
      " [612.304 727.944 843.584]\n",
      " [708.344 843.584 978.824]]\n",
      "\n",
      " with a size of (3, 3)\n"
     ]
    }
   ],
   "source": [
    "# your code here\n",
    "######POSSIBLE MISTAKE here...??\n",
    "\n",
    "print(f'''\n",
    "    I think there is a mistake because just can multiply (*a, *c) or (a*,c*) for the dimensions matching. Is it right?.\n",
    "    \n",
    "    Let's work under this premise....\n",
    "''')\n",
    "\n",
    "\n",
    "e= np.tensordot(a_,c, axes=([0,2],[2,0]))\n",
    "\n",
    "## a*.size = (3,2,5) --> axes(0,1,2)\n",
    "## *c.size = (5,2,3) --> axes (0,1,2)\n",
    "\n",
    "\n",
    "##When axes is integer_like, the sequence for evaluation will be: first the -Nth axis in a and 0th axis in b, and the -1th axis \n",
    "##in a and Nth axis in b last.\n",
    "\n",
    "##When there is more than one axis to sum over - and they are not the last (first) axes of a (b) - the argument axes \n",
    "##should consist of two sequences of the same length, with the first axis to sum over given first in both sequences, \n",
    "##the second axis second, and so forth.\n",
    "\n",
    "print(f'\\n\\nmatrix *e(a*,c) = \\n\\n {e}\\n\\n with a size of {e.shape}')\n",
    "\n"
   ]
  },
  {
   "cell_type": "markdown",
   "metadata": {},
   "source": [
    "#### 13. Does *e* equal to *a*? Why or why not?\n"
   ]
  },
  {
   "cell_type": "code",
   "execution_count": 17,
   "metadata": {},
   "outputs": [
    {
     "name": "stdout",
     "output_type": "stream",
     "text": [
      "False\n",
      "shape of *a = (2, 3, 5), shape of e* = (3, 3)\n"
     ]
    }
   ],
   "source": [
    "# your code/answer here\n",
    "e_ = e.transpose()\n",
    "if e_.shape == a.shape:\n",
    "    print(True)\n",
    "    print(f'shape of *a and e* = {e__.shape}')\n",
    "else:\n",
    "    print(False)\n",
    "    print(f'shape of *a = {a.shape}, shape of e* = {e_.shape}')"
   ]
  },
  {
   "cell_type": "markdown",
   "metadata": {},
   "source": [
    "#### 14. Identify the max, min, and mean values in *d*. Assign those values to variables *d_max*, *d_min* and *d_mean*."
   ]
  },
  {
   "cell_type": "code",
   "execution_count": 18,
   "metadata": {},
   "outputs": [
    {
     "name": "stdout",
     "output_type": "stream",
     "text": [
      "d_max = 24.64, d_min = 8.4 and d_mean = 16.519999999999996\n"
     ]
    }
   ],
   "source": [
    "# your code here\n",
    "d_ = d_\n",
    "\n",
    "d_max = d_.max()\n",
    "d_min = d_.min()\n",
    "d_mean = d_.mean()\n",
    "print(f'd_max = {d_max}, d_min = {d_min} and d_mean = {d_mean}')\n"
   ]
  },
  {
   "cell_type": "markdown",
   "metadata": {},
   "source": [
    "#### 15. Now we want to label the values in *d*. First create an empty array *f* with the same shape (i.e. 2x3x5) as *d* using `np.empty`.\n"
   ]
  },
  {
   "cell_type": "code",
   "execution_count": 19,
   "metadata": {},
   "outputs": [
    {
     "name": "stdout",
     "output_type": "stream",
     "text": [
      "[[[         0 1610612736          0 1610612736         20]\n",
      "  [         0          0          0          0          0]\n",
      "  [         0          0          0          0          0]]\n",
      "\n",
      " [[         0          0          0          0          0]\n",
      "  [         0          0          0          0          0]\n",
      "  [         0          0          0          0          0]]]\n"
     ]
    }
   ],
   "source": [
    "# your code here\n",
    "\n",
    "f= np.empty([2,3,5], dtype =np.int32)\n",
    "\n",
    "print(f)\n",
    "\n",
    "##h = np.zeros([2,3,5]) to put zeros"
   ]
  },
  {
   "cell_type": "markdown",
   "metadata": {},
   "source": [
    "#### 16. Populate the values in *f*. \n",
    "\n",
    "For each value in *d*, if it's larger than *d_min* but smaller than *d_mean*, assign 25 to the corresponding value in *f*. If a value in *d* is larger than *d_mean* but smaller than *d_max*, assign 75 to the corresponding value in *f*. If a value equals to *d_mean*, assign 50 to the corresponding value in *f*. Assign 0 to the corresponding value(s) in *f* for *d_min* in *d*. Assign 100 to the corresponding value(s) in *f* for *d_max* in *d*. In the end, f should have only the following values: 0, 25, 50, 75, and 100.\n",
    "\n",
    "**Note**: you don't have to use Numpy in this question."
   ]
  },
  {
   "cell_type": "code",
   "execution_count": 20,
   "metadata": {},
   "outputs": [
    {
     "name": "stdout",
     "output_type": "stream",
     "text": [
      "[[[  0  25  25  25  25]\n",
      "  [ 25  25  25  25  25]\n",
      "  [ 25  25  25  25  25]]\n",
      "\n",
      " [[ 75  75  75  75  75]\n",
      "  [ 75  75  75  75  75]\n",
      "  [ 75  75  75  75 100]]]\n"
     ]
    }
   ],
   "source": [
    "# your code here\n",
    "for i in range(0,d.shape[0]):\n",
    "    for j in range(0,d.shape[1]):\n",
    "        for k in range(0,d.shape[2]):\n",
    "            if d[i][j][k] > d_min and d[i][j][k] < d_mean: #*d_min but smaller than d_mean, assign 25\n",
    "                f[i][j][k] = 25\n",
    "                \n",
    "                \n",
    "            elif d[i][j][k] > d_mean and d[i][j][k] < d_max:   #*d is larger than d_mean but smaller than d_max, assign 75\n",
    "                f[i][j][k] = 75\n",
    "                \n",
    "                \n",
    "            elif d[i][j][k] == d_mean:             #a value equals to *d_mean, assign 50 \n",
    "                d[i][j][k] = 50\n",
    "                \n",
    "                \n",
    "            elif d[i][j][k] == d_min:\n",
    "                f[i][j][k] = 0           # Assign 0 in *f for d_min in d*\n",
    "                \n",
    "                \n",
    "            elif d[i][j][k] == d_max:\n",
    "                f[i][j][k] = 100           # Assign 1000 in *f for d_max in d*\n",
    "print(f)\n",
    "                \n",
    "                \n",
    "\n"
   ]
  },
  {
   "cell_type": "markdown",
   "metadata": {},
   "source": [
    "#### 17. Print *d* and *f*. Do you have your expected *f*?\n",
    "For instance, if your *d* is:\n",
    "```python\n",
    "[[[1.85836099, 1.67064465, 1.62576044, 1.40243961, 1.88454931],\n",
    "[1.75354326, 1.69403643, 1.36729252, 1.61415071, 1.12104981],\n",
    "[1.72201435, 1.1862918 , 1.87078449, 1.7726778 , 1.88180042]],\n",
    "[[1.44747908, 1.31673383, 1.02000951, 1.52218947, 1.97066381],\n",
    "[1.79129243, 1.74983003, 1.96028037, 1.85166831, 1.65450881],\n",
    "[1.18068344, 1.9587381 , 1.00656599, 1.93402165, 1.73514584]]]\n",
    "```\n",
    "Your *f* should be:\n",
    "```python\n",
    "[[[ 75.,  75.,  75.,  25.,  75.],\n",
    "[ 75.,  75.,  25.,  25.,  25.],\n",
    "[ 75.,  25.,  75.,  75.,  75.]],\n",
    "[[ 25.,  25.,  25.,  25., 100.],\n",
    "[ 75.,  75.,  75.,  75.,  75.],\n",
    "[ 25.,  75.,   0.,  75.,  75.]]]\n",
    "```"
   ]
  },
  {
   "cell_type": "code",
   "execution_count": 21,
   "metadata": {},
   "outputs": [
    {
     "name": "stdout",
     "output_type": "stream",
     "text": [
      "\n",
      "matrix d* is \n",
      "\n",
      "[[[ 8.4  16.8 ]\n",
      "  [11.2  19.6 ]\n",
      "  [14.   22.4 ]]\n",
      "\n",
      " [[ 8.96 17.36]\n",
      "  [11.76 20.16]\n",
      "  [14.56 22.96]]\n",
      "\n",
      " [[ 9.52 17.92]\n",
      "  [12.32 20.72]\n",
      "  [15.12 23.52]]\n",
      "\n",
      " [[10.08 18.48]\n",
      "  [12.88 21.28]\n",
      "  [15.68 24.08]]\n",
      "\n",
      " [[10.64 19.04]\n",
      "  [13.44 21.84]\n",
      "  [16.24 24.64]]]\n",
      "\n",
      "\n",
      "\n",
      "\n",
      "matrix f is \n",
      "\n",
      "[[[  0  25  25  25  25]\n",
      "  [ 25  25  25  25  25]\n",
      "  [ 25  25  25  25  25]]\n",
      "\n",
      " [[ 75  75  75  75  75]\n",
      "  [ 75  75  75  75  75]\n",
      "  [ 75  75  75  75 100]]]\n"
     ]
    }
   ],
   "source": [
    "# your code here\n",
    "\n",
    "print(f'\\nmatrix d* is \\n\\n{d_}\\n\\n')\n",
    "      \n",
    "print(f'\\n\\nmatrix f is \\n\\n{f}')"
   ]
  },
  {
   "cell_type": "markdown",
   "metadata": {},
   "source": [
    "#### 18. Bonus question: instead of using numbers (i.e. 0, 25, 50, 75, and 100), use string values  (\"A\", \"B\", \"C\", \"D\", and \"E\") to label the array elements. For the example above, the expected result is:\n",
    "\n",
    "```python\n",
    "[[[ 'D',  'D',  'D',  'B',  'D'],\n",
    "[ 'D',  'D',  'B',  'B',  'B'],\n",
    "[ 'D',  'B',  'D',  'D',  'D']],\n",
    "[[ 'B',  'B',  'B',  'B',  'E'],\n",
    "[ 'D',  'D',  'D',  'D',  'D'],\n",
    "[ 'B',  'D',   'A',  'D', 'D']]]\n",
    "```\n",
    "**Note**: you don't have to use Numpy in this question."
   ]
  },
  {
   "cell_type": "code",
   "execution_count": 22,
   "metadata": {},
   "outputs": [
    {
     "name": "stdout",
     "output_type": "stream",
     "text": [
      "[[['D' 'A' 'A' 'A' 'A']\n",
      "  ['A' 'A' 'A' 'A' 'A']\n",
      "  ['A' 'A' 'A' 'A' 'A']]\n",
      "\n",
      " [['B' 'B' 'B' 'B' 'B']\n",
      "  ['B' 'B' 'B' 'B' 'B']\n",
      "  ['B' 'B' 'B' 'B' 'E']]]\n"
     ]
    }
   ],
   "source": [
    "# your code heref\n",
    "\n",
    "g= np.empty([2,3,5], dtype =np.str)\n",
    "\n",
    "##the keypoint in this section is create a new matrix of the same size than d, and categorize it as a \n",
    "##string, not as an int of 32 bits!!!!!\n",
    "\n",
    "\n",
    "\n",
    "for i in range(0,d.shape[0]):\n",
    "    for j in range(0,d.shape[1]):\n",
    "        for k in range(0,d.shape[2]):\n",
    "            if d[i][j][k] > d_min and d[i][j][k] < d_mean: #*d_min but smaller than d_mean, assign 25\n",
    "                g[i][j][k] = 'A'\n",
    "            elif d[i][j][k] > d_mean and d[i][j][k] < d_max:   #*d is larger than d_mean but smaller than d_max, assign 75\n",
    "                g[i][j][k] = 'B'\n",
    "            elif d[i][j][k] == d_mean:             #a value equals to *d_mean, assign 50 \n",
    "                g[i][j][k] = 'C'\n",
    "            elif d[i][j][k] == d_min:\n",
    "                g[i][j][k] = 'D'           # Assign 0 in *f for d_min in d*\n",
    "            elif d[i][j][k] == d_max:\n",
    "                g[i][j][k] = 'E'           # Assign 1000 in *f for d_max in d*\n",
    "print(g)\n",
    "                \n",
    "                \n",
    "\n"
   ]
  },
  {
   "cell_type": "code",
   "execution_count": null,
   "metadata": {},
   "outputs": [],
   "source": []
  }
 ],
 "metadata": {
  "kernelspec": {
   "display_name": "Python 3",
   "language": "python",
   "name": "python3"
  },
  "language_info": {
   "codemirror_mode": {
    "name": "ipython",
    "version": 3
   },
   "file_extension": ".py",
   "mimetype": "text/x-python",
   "name": "python",
   "nbconvert_exporter": "python",
   "pygments_lexer": "ipython3",
   "version": "3.7.3"
  }
 },
 "nbformat": 4,
 "nbformat_minor": 2
}
