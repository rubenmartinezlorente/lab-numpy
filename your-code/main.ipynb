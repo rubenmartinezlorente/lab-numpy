{
 "cells": [
  {
   "cell_type": "markdown",
   "metadata": {},
   "source": [
    "# Intrduction to NumPy\n",
    "\n",
    "\n",
    "#### 1. Import NumPy under the name np."
   ]
  },
  {
   "cell_type": "code",
   "execution_count": null,
   "metadata": {},
   "outputs": [],
   "source": [
    "# your code here\n",
    "import numpy as np"
   ]
  },
  {
   "cell_type": "markdown",
   "metadata": {},
   "source": [
    "#### 2. Print your NumPy version."
   ]
  },
  {
   "cell_type": "code",
   "execution_count": null,
   "metadata": {},
   "outputs": [],
   "source": [
    "# your code here\n",
    "np.version.version"
   ]
  },
  {
   "cell_type": "markdown",
   "metadata": {},
   "source": [
    "#### 3. Generate a 2x3x5 3-dimensional array with random values. Assign the array to variable *a*.\n",
    "**Challenge**: there are at least three easy ways that use numpy to generate random arrays. How many ways can you find?"
   ]
  },
  {
   "cell_type": "code",
   "execution_count": null,
   "metadata": {},
   "outputs": [],
   "source": [
    "# Method 1: CONSTRUC the matrix put each value one by one: too slow, not efficient, (I think)\n",
    "\n",
    "\n",
    "\n",
    "###   x*y*z--> x paragrapahs with  y sentences with z words\n",
    "\n",
    "import random\n",
    "n1 =random.random()\n",
    "print(n1)\n",
    "a = np.array([\n",
    "                [[random.random(), random.random(),random.random(),random.random(),random.random()],\n",
    "                [random.random(),random.random(),random.random(),random.random(),random.random()],\n",
    "                [random.random(),random.random(),random.random(),random.random(),random.random()]],\n",
    "    \n",
    "                [[random.random(),random.random(),random.random(),random.random(),random.random()],\n",
    "                [random.random(),random.random(),random.random(),random.random(),random.random()],\n",
    "                [random.random(),random.random(),random.random(),random.random(),random.random()]]\n",
    "            ])\n",
    "print(a)\n",
    "a.shape\n"
   ]
  },
  {
   "cell_type": "code",
   "execution_count": null,
   "metadata": {},
   "outputs": [],
   "source": [
    "# Method 2: defines the range with we want to fill the matrix (start, stop, step) in a multidimensional \n",
    "##array(matrix) of x*y*z size\n",
    "import random \n",
    "\n",
    "##x**y*z has to fit with the difference between stop-start (take into account the steps: 1 by default)\n",
    "\n",
    "\n",
    "#################\n",
    "#1s method found (step by step): create a matrix and the, multiply by a random value.\n",
    "\n",
    "a = np.arange(30,90,2).reshape(2,3,5) ##we create a multidimensional array of 2*3*5 size\n",
    "print(f'{a}\\n Now we multiply by a random values (\\n\\na by int random values and b matrix by float random values\\n\\n')\n",
    "\n",
    "\n",
    "###################################\n",
    "##the new matrix is multiplied by a INT random value, each matrix value by a different random value.\n",
    "a = (a*random.randint(0,10)) \n",
    "\n",
    "\n",
    "####################################\n",
    "##the new matrix is multiplied by a FLOAT random value, each matrix value by a different random value.\n",
    "b = a*round(random.random(),2) \n",
    "#round is a function to limit the number in just 2 decimals\n",
    "\n",
    "\n",
    "print(f'#################################### \\n a = {a} \\n\\n a is a matrix created with int random values\\n\\n\\n')\n",
    "\n",
    "print(f'#################################### \\n b = {b} \\n\\n b is a matrix created with float random values with just 2 decimals')\n"
   ]
  },
  {
   "cell_type": "code",
   "execution_count": null,
   "metadata": {},
   "outputs": [],
   "source": [
    "# Method 2\n",
    "\n",
    "#################\n",
    "#2nd method found (strigthway): create a x*y*z matrix with random values from a determinate range.\n",
    "\n",
    "\n",
    "\n",
    "c = np.random.randint(0, 50, size=[2,3,5])\n",
    "\n",
    "print(f'####################################\\n\\nmatrix c = \\n\\n{c}\\n\\n made by int random numbers\\n\\n')\n",
    "\n",
    "\n",
    "d = np.random.random(size=[2,3,5])\n",
    "\n",
    "print(f'#################################### \\n\\nmatrix d = \\n\\n{d}\\n\\n made by float random numbers')\n",
    "\n",
    "\n"
   ]
  },
  {
   "cell_type": "code",
   "execution_count": null,
   "metadata": {},
   "outputs": [],
   "source": [
    "# Method 3\n"
   ]
  },
  {
   "cell_type": "markdown",
   "metadata": {},
   "source": [
    "#### 4. Print *a*.\n"
   ]
  },
  {
   "cell_type": "code",
   "execution_count": null,
   "metadata": {},
   "outputs": [],
   "source": [
    "# your code here\n",
    "a = b ##we choosee the matrix with random float values with 2 decimals\n",
    "\n",
    "print (a)"
   ]
  },
  {
   "cell_type": "markdown",
   "metadata": {},
   "source": [
    "#### 5. Create a 5x2x3 3-dimensional array with all values equaling 1. Assign the array to variable *b*."
   ]
  },
  {
   "cell_type": "code",
   "execution_count": null,
   "metadata": {},
   "outputs": [],
   "source": [
    "# your code here\n",
    "\n",
    "\n",
    "##dtype=np.int32 to specify we want int, no floats as create by default\n",
    "\n",
    "\n",
    "b =np.ones([5,2,3],dtype=np.int32) \n",
    "print(f'{b}\\n \\n With a size of {b.shape}.')\n",
    "\n"
   ]
  },
  {
   "cell_type": "markdown",
   "metadata": {},
   "source": [
    "#### 6. Print *b*.\n"
   ]
  },
  {
   "cell_type": "code",
   "execution_count": null,
   "metadata": {},
   "outputs": [],
   "source": [
    "# your code here\n",
    "print(b)\n",
    "print(f'\\n\\nmatriz size of b= {b.shape}')"
   ]
  },
  {
   "cell_type": "markdown",
   "metadata": {},
   "source": [
    "#### 7. Do a and b have the same size? How do you prove that in Python code?"
   ]
  },
  {
   "cell_type": "code",
   "execution_count": null,
   "metadata": {},
   "outputs": [],
   "source": [
    "# your code here\n",
    "\n",
    "if a.shape == b.shape:\n",
    "    print(True)\n",
    "    print(f'shape of a and b = {a.shape}')\n",
    "else:\n",
    "    print(False)\n",
    "    print(f'shape of a = {a.shape}, shape of b = {b.shape}')\n"
   ]
  },
  {
   "cell_type": "markdown",
   "metadata": {},
   "source": [
    "#### 8. Are you able to add a and b? Why or why not?\n"
   ]
  },
  {
   "cell_type": "code",
   "execution_count": null,
   "metadata": {},
   "outputs": [],
   "source": [
    "# your answer here\n",
    "\n",
    "#print(a)\n",
    "print(f'\\nmatrix size of a = {a.shape}\\n\\n\\n\\n')\n",
    "\n",
    "#print(b)\n",
    "print(f'\\nmatrix size of b = {b.shape}\\n\\n\\n\\n')\n",
    "\n",
    "\n",
    "print('we can not add because does not fit the dimensions')\n",
    "###THIS IS THE SUM, BUT WE CAN'T DO IT\n",
    "#suma = a_ + b\n"
   ]
  },
  {
   "cell_type": "markdown",
   "metadata": {},
   "source": [
    "#### 9. Transpose b so that it has the same structure of a (i.e. become a 2x3x5 array). Assign the transposed array to variable c."
   ]
  },
  {
   "cell_type": "code",
   "execution_count": null,
   "metadata": {},
   "outputs": [],
   "source": [
    "\n",
    "# your code here\n",
    "\n",
    "##I have to transpose b (5,2,3) to be the same dimension than a(2,5,3) c = b.transpose(1,2,0)\n",
    "c = b.transpose(1,2,0)\n",
    "#print(c)\n",
    "print(f'\\nmatrix size of c = {c.shape} ')\n"
   ]
  },
  {
   "cell_type": "markdown",
   "metadata": {},
   "source": [
    "#### 10. Try to add a and c. Now it should work. Assign the sum to variable d. But why does it work now?"
   ]
  },
  {
   "cell_type": "code",
   "execution_count": null,
   "metadata": {},
   "outputs": [],
   "source": [
    "\n",
    "# your code/answer here\n",
    "\n",
    "d = a + c\n",
    "print(f'd size is {d.shape}, a size is {a.shape} and c size is {c.shape}\\n\\n')\n",
    "print('It works because have the same dimension.')\n",
    "print(d)\n",
    "\n"
   ]
  },
  {
   "cell_type": "markdown",
   "metadata": {},
   "source": [
    "#### 11. Print a and d. Notice the difference and relation of the two array in terms of the values? Explain."
   ]
  },
  {
   "cell_type": "code",
   "execution_count": null,
   "metadata": {},
   "outputs": [],
   "source": [
    "# your code/answer here\n",
    "\n",
    "print(f'''\n",
    "a=\n",
    "{a}\n",
    "\n",
    "d=\n",
    "{d}\n",
    "\n",
    "The difference is in each element of multidimensional array a is add 1 becoming the matrix c.\n",
    "''')\n",
    "\n"
   ]
  },
  {
   "cell_type": "markdown",
   "metadata": {},
   "source": [
    "#### 12. Multiply a and c. Assign the result to e."
   ]
  },
  {
   "cell_type": "code",
   "execution_count": null,
   "metadata": {},
   "outputs": [],
   "source": [
    "# your code here\n",
    "e = a * c\n",
    "\n",
    "print(f'''\n",
    "a=\n",
    "{a}\n",
    "\n",
    "c=\n",
    "{c}\n",
    "\n",
    "e=\n",
    "{e}\n",
    "\n",
    "The size of e is {e.shape}\n",
    "''')\n",
    "\n",
    "e = a * c\n"
   ]
  },
  {
   "cell_type": "markdown",
   "metadata": {},
   "source": [
    "#### 13. Does e equal to a? Why or why not?\n"
   ]
  },
  {
   "cell_type": "code",
   "execution_count": null,
   "metadata": {},
   "outputs": [],
   "source": [
    "# your code/answer here\n",
    "\n",
    "if a.all() == e.all():\n",
    "    print(True)\n",
    "    print(f'a and e are equal')\n",
    "else:\n",
    "    print(False)\n",
    "    print(f'a and e ar not equal')\n",
    "\n",
    "print(f'''\n",
    "Matrix e and a are equal because a is multiplied by a unitary matrix with same dimension of a.       \n",
    "''')"
   ]
  },
  {
   "cell_type": "markdown",
   "metadata": {},
   "source": [
    "#### 14. Identify the max, min, and mean values in *d*. Assign those values to variables *d_max*, *d_min* and *d_mean*."
   ]
  },
  {
   "cell_type": "code",
   "execution_count": null,
   "metadata": {},
   "outputs": [],
   "source": [
    "# your code here\n",
    "d_max = d.max()\n",
    "d_min = d.min()\n",
    "d_mean = d.mean()\n",
    "print(f'd_max = {d_max}, d_min = {d_min} and d_mean = {d_mean}')\n"
   ]
  },
  {
   "cell_type": "markdown",
   "metadata": {},
   "source": [
    "#### 15. Now we want to label the values in d. First create an empty array f with the same shape (i.e. 2x3x5) as d using `np.empty`.\n"
   ]
  },
  {
   "cell_type": "code",
   "execution_count": null,
   "metadata": {},
   "outputs": [],
   "source": [
    "# your code here\n",
    "\n",
    "f= np.empty([2,3,5], dtype =np.int32)\n",
    "\n",
    "print(f)\n",
    "\n",
    "##h = np.zeros([2,3,5]) to put zeros"
   ]
  },
  {
   "cell_type": "markdown",
   "metadata": {},
   "source": [
    "#### 16. Populate the values in *f*. \n",
    "\n",
    "For each value in *d*, if it's larger than *d_min* but smaller than *d_mean*, assign 25 to the corresponding value in *f*. If a value in *d* is larger than *d_mean* but smaller than *d_max*, assign 75 to the corresponding value in *f*. If a value equals to *d_mean*, assign 50 to the corresponding value in *f*. Assign 0 to the corresponding value(s) in *f* for *d_min* in *d*. Assign 100 to the corresponding value(s) in *f* for *d_max* in *d*. In the end, f should have only the following values: 0, 25, 50, 75, and 100.\n",
    "\n",
    "**Note**: you don't have to use Numpy in this question."
   ]
  },
  {
   "cell_type": "code",
   "execution_count": null,
   "metadata": {},
   "outputs": [],
   "source": [
    "# your code here\n",
    "for i in range(0,d.shape[0]):\n",
    "    for j in range(0,d.shape[1]):\n",
    "        for k in range(0,d.shape[2]):\n",
    "            if d[i][j][k] > d_min and d[i][j][k] < d_mean: #*d_min but smaller than d_mean, assign 25\n",
    "                f[i][j][k] = 25\n",
    "                \n",
    "                \n",
    "            elif d[i][j][k] > d_mean and d[i][j][k] < d_max:   #*d is larger than d_mean but smaller than d_max, assign 75\n",
    "                f[i][j][k] = 75\n",
    "                \n",
    "                \n",
    "            elif d[i][j][k] == d_mean:             #a value equals to *d_mean, assign 50 \n",
    "                d[i][j][k] = 50\n",
    "                \n",
    "                \n",
    "            elif d[i][j][k] == d_min:\n",
    "                f[i][j][k] = 0           # Assign 0 in *f for d_min in d*\n",
    "                \n",
    "                \n",
    "            elif d[i][j][k] == d_max:\n",
    "                f[i][j][k] = 100           # Assign 1000 in *f for d_max in d*\n",
    "print(f)\n",
    "                \n",
    "                \n",
    "\n"
   ]
  },
  {
   "cell_type": "markdown",
   "metadata": {},
   "source": [
    "#### 17. Print d and f. Do you have your expected f?\n",
    "For instance, if your *d* is:\n",
    "```python\n",
    "[[[1.85836099, 1.67064465, 1.62576044, 1.40243961, 1.88454931],\n",
    "[1.75354326, 1.69403643, 1.36729252, 1.61415071, 1.12104981],\n",
    "[1.72201435, 1.1862918 , 1.87078449, 1.7726778 , 1.88180042]],\n",
    "[[1.44747908, 1.31673383, 1.02000951, 1.52218947, 1.97066381],\n",
    "[1.79129243, 1.74983003, 1.96028037, 1.85166831, 1.65450881],\n",
    "[1.18068344, 1.9587381 , 1.00656599, 1.93402165, 1.73514584]]]\n",
    "```\n",
    "Your *f* should be:\n",
    "```python\n",
    "[[[ 75.,  75.,  75.,  25.,  75.],\n",
    "[ 75.,  75.,  25.,  25.,  25.],\n",
    "[ 75.,  25.,  75.,  75.,  75.]],\n",
    "[[ 25.,  25.,  25.,  25., 100.],\n",
    "[ 75.,  75.,  75.,  75.,  75.],\n",
    "[ 25.,  75.,   0.,  75.,  75.]]]\n",
    "```"
   ]
  },
  {
   "cell_type": "code",
   "execution_count": null,
   "metadata": {},
   "outputs": [],
   "source": [
    "# your code here\n",
    "\n",
    "print(f'\\nmatrix d is \\n\\n{d}\\n\\n')\n",
    "      \n",
    "print(f'\\n\\nmatrix f is \\n\\n{f}')"
   ]
  },
  {
   "cell_type": "markdown",
   "metadata": {},
   "source": [
    "#### 18. Bonus question: instead of using numbers (i.e. 0, 25, 50, 75, and 100), use string values  (\"A\", \"B\", \"C\", \"D\", and \"E\") to label the array elements. For the example above, the expected result is:\n",
    "\n",
    "```python\n",
    "[[[ 'D',  'D',  'D',  'B',  'D'],\n",
    "[ 'D',  'D',  'B',  'B',  'B'],\n",
    "[ 'D',  'B',  'D',  'D',  'D']],\n",
    "[[ 'B',  'B',  'B',  'B',  'E'],\n",
    "[ 'D',  'D',  'D',  'D',  'D'],\n",
    "[ 'B',  'D',   'A',  'D', 'D']]]\n",
    "```\n",
    "**Note**: you don't have to use Numpy in this question."
   ]
  },
  {
   "cell_type": "code",
   "execution_count": null,
   "metadata": {},
   "outputs": [],
   "source": [
    "# your code heref\n",
    "\n",
    "g= np.empty([2,3,5], dtype =np.str)\n",
    "\n",
    "##the keypoint in this section is create a new matrix of the same size than d, and categorize it as a \n",
    "##string, not as an int of 32 bits!!!!!\n",
    "\n",
    "\n",
    "\n",
    "for i in range(0,d.shape[0]):\n",
    "    for j in range(0,d.shape[1]):\n",
    "        for k in range(0,d.shape[2]):\n",
    "            if d[i][j][k] > d_min and d[i][j][k] < d_mean: #*d_min but smaller than d_mean, assign 25\n",
    "                g[i][j][k] = 'A'\n",
    "            elif d[i][j][k] > d_mean and d[i][j][k] < d_max:   #*d is larger than d_mean but smaller than d_max, assign 75\n",
    "                g[i][j][k] = 'B'\n",
    "            elif d[i][j][k] == d_mean:             #a value equals to *d_mean, assign 50 \n",
    "                g[i][j][k] = 'C'\n",
    "            elif d[i][j][k] == d_min:\n",
    "                g[i][j][k] = 'D'           # Assign 0 in *f for d_min in d*\n",
    "            elif d[i][j][k] == d_max:\n",
    "                g[i][j][k] = 'E'           # Assign 1000 in *f for d_max in d*\n",
    "print(g)\n",
    "                \n",
    "                \n",
    "\n"
   ]
  },
  {
   "cell_type": "code",
   "execution_count": null,
   "metadata": {},
   "outputs": [],
   "source": []
  }
 ],
 "metadata": {
  "kernelspec": {
   "display_name": "Python 3",
   "language": "python",
   "name": "python3"
  },
  "language_info": {
   "codemirror_mode": {
    "name": "ipython",
    "version": 3
   },
   "file_extension": ".py",
   "mimetype": "text/x-python",
   "name": "python",
   "nbconvert_exporter": "python",
   "pygments_lexer": "ipython3",
   "version": "3.7.3"
  }
 },
 "nbformat": 4,
 "nbformat_minor": 2
}
