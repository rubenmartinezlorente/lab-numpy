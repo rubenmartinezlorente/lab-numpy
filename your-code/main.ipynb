{
 "cells": [
  {
   "cell_type": "markdown",
   "metadata": {},
   "source": [
    "# Intrduction to NumPy\n",
    "\n",
    "\n",
    "#### 1. Import NumPy under the name np."
   ]
  },
  {
   "cell_type": "code",
   "execution_count": 1,
   "metadata": {},
   "outputs": [],
   "source": [
    "# your code here\n",
    "import numpy as np"
   ]
  },
  {
   "cell_type": "markdown",
   "metadata": {},
   "source": [
    "#### 2. Print your NumPy version."
   ]
  },
  {
   "cell_type": "code",
   "execution_count": 2,
   "metadata": {},
   "outputs": [
    {
     "data": {
      "text/plain": [
       "'1.16.2'"
      ]
     },
     "execution_count": 2,
     "metadata": {},
     "output_type": "execute_result"
    }
   ],
   "source": [
    "# your code here\n",
    "np.version.version"
   ]
  },
  {
   "cell_type": "markdown",
   "metadata": {},
   "source": [
    "#### 3. Generate a 2x3x5 3-dimensional array with random values. Assign the array to variable *a*.\n",
    "**Challenge**: there are at least three easy ways that use numpy to generate random arrays. How many ways can you find?"
   ]
  },
  {
   "cell_type": "code",
   "execution_count": 3,
   "metadata": {},
   "outputs": [
    {
     "name": "stdout",
     "output_type": "stream",
     "text": [
      "0.5935753368054563\n",
      "[[[0.33545476 0.88939979 0.09171793 0.05504862 0.61893713]\n",
      "  [0.33160847 0.76585468 0.57291581 0.73784383 0.27260186]\n",
      "  [0.39368455 0.38970395 0.08600535 0.25493859 0.49282708]]\n",
      "\n",
      " [[0.50651123 0.76620346 0.60931885 0.20332394 0.81338823]\n",
      "  [0.73410457 0.93088217 0.15576415 0.01667334 0.32400042]\n",
      "  [0.50944042 0.99724474 0.10565486 0.1770759  0.23584925]]]\n"
     ]
    },
    {
     "data": {
      "text/plain": [
       "(2, 3, 5)"
      ]
     },
     "execution_count": 3,
     "metadata": {},
     "output_type": "execute_result"
    }
   ],
   "source": [
    "# Method 1: CONSTRUC the matrix put each value one by one: too slow, not efficient, (I think)\n",
    "\n",
    "\n",
    "\n",
    "###   x*y*z--> x paragrapahs with  y sentences with z words\n",
    "\n",
    "import random\n",
    "n1 =random.random()\n",
    "print(n1)\n",
    "a = np.array([\n",
    "                [[random.random(), random.random(),random.random(),random.random(),random.random()],\n",
    "                [random.random(),random.random(),random.random(),random.random(),random.random()],\n",
    "                [random.random(),random.random(),random.random(),random.random(),random.random()]],\n",
    "    \n",
    "                [[random.random(),random.random(),random.random(),random.random(),random.random()],\n",
    "                [random.random(),random.random(),random.random(),random.random(),random.random()],\n",
    "                [random.random(),random.random(),random.random(),random.random(),random.random()]]\n",
    "            ])\n",
    "print(a)\n",
    "a.shape\n"
   ]
  },
  {
   "cell_type": "code",
   "execution_count": 10,
   "metadata": {},
   "outputs": [
    {
     "name": "stdout",
     "output_type": "stream",
     "text": [
      "[[[30 32 34 36 38]\n",
      "  [40 42 44 46 48]\n",
      "  [50 52 54 56 58]]\n",
      "\n",
      " [[60 62 64 66 68]\n",
      "  [70 72 74 76 78]\n",
      "  [80 82 84 86 88]]]\n",
      " Now we multiply by a random values (\n",
      "\n",
      "a by int random values and b matrix by float random values\n",
      "\n",
      "\n",
      "#################################### \n",
      " a = [[[240 256 272 288 304]\n",
      "  [320 336 352 368 384]\n",
      "  [400 416 432 448 464]]\n",
      "\n",
      " [[480 496 512 528 544]\n",
      "  [560 576 592 608 624]\n",
      "  [640 656 672 688 704]]] \n",
      "\n",
      " a is a matrix created with int random values\n",
      "\n",
      "\n",
      "\n",
      "#################################### \n",
      " b = [[[26.4  28.16 29.92 31.68 33.44]\n",
      "  [35.2  36.96 38.72 40.48 42.24]\n",
      "  [44.   45.76 47.52 49.28 51.04]]\n",
      "\n",
      " [[52.8  54.56 56.32 58.08 59.84]\n",
      "  [61.6  63.36 65.12 66.88 68.64]\n",
      "  [70.4  72.16 73.92 75.68 77.44]]] \n",
      "\n",
      " b is a matrix created with float random values with just 2 decimals\n"
     ]
    }
   ],
   "source": [
    "# Method 2: defines the range with we want to fill the matrix (start, stop, step) in a multidimensional \n",
    "##array(matrix) of x*y*z size\n",
    "import random \n",
    "\n",
    "##x**y*z has to fit with the difference between stop-start (take into account the steps: 1 by default)\n",
    "\n",
    "\n",
    "#################\n",
    "#1s method found (step by step): create a matrix and the, multiply by a random value.\n",
    "\n",
    "a = np.arange(30,90,2).reshape(2,3,5) ##we create a multidimensional array of 2*3*5 size\n",
    "print(f'{a}\\n Now we multiply by a random values (\\n\\na by int random values and b matrix by float random values\\n\\n')\n",
    "\n",
    "\n",
    "###################################\n",
    "##the new matrix is multiplied by a INT random value, each matrix value by a different random value.\n",
    "a = (a*random.randint(0,10)) \n",
    "\n",
    "\n",
    "####################################\n",
    "##the new matrix is multiplied by a FLOAT random value, each matrix value by a different random value.\n",
    "b = a*round(random.random(),2) \n",
    "#round is a function to limit the number in just 2 decimals\n",
    "\n",
    "\n",
    "print(f'#################################### \\n a = {a} \\n\\n a is a matrix created with int random values\\n\\n\\n')\n",
    "\n",
    "print(f'#################################### \\n b = {b} \\n\\n b is a matrix created with float random values with just 2 decimals')\n"
   ]
  },
  {
   "cell_type": "code",
   "execution_count": 11,
   "metadata": {},
   "outputs": [
    {
     "name": "stdout",
     "output_type": "stream",
     "text": [
      "####################################\n",
      "\n",
      "matrix c = \n",
      "\n",
      "[[[47  0 20 41 45]\n",
      "  [ 1 33 46 26 32]\n",
      "  [ 7  1 17 49 31]]\n",
      "\n",
      " [[ 8 18 42  0 42]\n",
      "  [35 43 10 41 28]\n",
      "  [39 40 37 32  9]]]\n",
      "\n",
      " made by int random numbers\n",
      "\n",
      "\n",
      "#################################### \n",
      "\n",
      "matrix d = \n",
      "\n",
      "[[[0.26106723 0.19723186 0.13786832 0.23453433 0.18286277]\n",
      "  [0.55793467 0.10006401 0.8650823  0.74064192 0.09595185]\n",
      "  [0.66688329 0.36122882 0.10356352 0.86063485 0.01385757]]\n",
      "\n",
      " [[0.61212766 0.05092783 0.99698784 0.23107474 0.01582758]\n",
      "  [0.11722612 0.36463906 0.26845877 0.62113795 0.47806958]\n",
      "  [0.6620536  0.05714672 0.28916552 0.45194424 0.59863268]]]\n",
      "\n",
      " made by float random numbers\n"
     ]
    }
   ],
   "source": [
    "# Method 2\n",
    "\n",
    "#################\n",
    "#2nd method found (strigthway): create a x*y*z matrix with random values from a determinate range.\n",
    "\n",
    "\n",
    "\n",
    "c = np.random.randint(0, 50, size=[2,3,5])\n",
    "\n",
    "print(f'####################################\\n\\nmatrix c = \\n\\n{c}\\n\\n made by int random numbers\\n\\n')\n",
    "\n",
    "\n",
    "d = np.random.random(size=[2,3,5])\n",
    "\n",
    "print(f'#################################### \\n\\nmatrix d = \\n\\n{d}\\n\\n made by float random numbers')\n",
    "\n",
    "\n"
   ]
  },
  {
   "cell_type": "code",
   "execution_count": null,
   "metadata": {},
   "outputs": [],
   "source": [
    "# Method 3\n"
   ]
  },
  {
   "cell_type": "markdown",
   "metadata": {},
   "source": [
    "#### 4. Print *a*.\n"
   ]
  },
  {
   "cell_type": "code",
   "execution_count": 12,
   "metadata": {},
   "outputs": [
    {
     "name": "stdout",
     "output_type": "stream",
     "text": [
      "[[[26.4  28.16 29.92 31.68 33.44]\n",
      "  [35.2  36.96 38.72 40.48 42.24]\n",
      "  [44.   45.76 47.52 49.28 51.04]]\n",
      "\n",
      " [[52.8  54.56 56.32 58.08 59.84]\n",
      "  [61.6  63.36 65.12 66.88 68.64]\n",
      "  [70.4  72.16 73.92 75.68 77.44]]]\n"
     ]
    }
   ],
   "source": [
    "# your code here\n",
    "a = b ##we choosee the matrix with random float values with 2 decimals\n",
    "print (a)"
   ]
  },
  {
   "cell_type": "markdown",
   "metadata": {},
   "source": [
    "#### 5. Create a 5x2x3 3-dimensional array with all values equaling 1. Assign the array to variable *b*."
   ]
  },
  {
   "cell_type": "code",
   "execution_count": 13,
   "metadata": {},
   "outputs": [
    {
     "name": "stdout",
     "output_type": "stream",
     "text": [
      "[[[1 1 1]\n",
      "  [1 1 1]]\n",
      "\n",
      " [[1 1 1]\n",
      "  [1 1 1]]\n",
      "\n",
      " [[1 1 1]\n",
      "  [1 1 1]]\n",
      "\n",
      " [[1 1 1]\n",
      "  [1 1 1]]\n",
      "\n",
      " [[1 1 1]\n",
      "  [1 1 1]]]\n",
      " \n",
      " With a size of (5, 2, 3).\n"
     ]
    }
   ],
   "source": [
    "# your code here\n",
    "\n",
    "\n",
    "##dtype=np.int32 to specify we want int, no floats as create by default\n",
    "b =np.ones([5,2,3],dtype=np.int32) \n",
    "print(f'{b}\\n \\n With a size of {b.shape}.')\n",
    "\n",
    "\n",
    "#b = np.random.random(size=[2,3,5]) \n",
    "\n",
    "\n",
    "#print(f'''\n",
    "#{b} \\n\\n With a size of {b.shape}, is this matrix with random float values we use in the bonus section to show the distrubtion of numbers (#14) and letters(#15)\n",
    "#          ''')\n",
    "\n",
    "#a = b\n"
   ]
  },
  {
   "cell_type": "markdown",
   "metadata": {},
   "source": [
    "#### 6. Print *b*.\n"
   ]
  },
  {
   "cell_type": "code",
   "execution_count": 14,
   "metadata": {},
   "outputs": [
    {
     "name": "stdout",
     "output_type": "stream",
     "text": [
      "[[[1 1 1]\n",
      "  [1 1 1]]\n",
      "\n",
      " [[1 1 1]\n",
      "  [1 1 1]]\n",
      "\n",
      " [[1 1 1]\n",
      "  [1 1 1]]\n",
      "\n",
      " [[1 1 1]\n",
      "  [1 1 1]]\n",
      "\n",
      " [[1 1 1]\n",
      "  [1 1 1]]]\n",
      "\n",
      "\n",
      "matriz size of b= (5, 2, 3)\n"
     ]
    }
   ],
   "source": [
    "# your code here\n",
    "print(b)\n",
    "print(f'\\n\\nmatriz size of b= {b.shape}')"
   ]
  },
  {
   "cell_type": "markdown",
   "metadata": {},
   "source": [
    "#### 7. Do *a* and *b* have the same size? How do you prove that in Python code?"
   ]
  },
  {
   "cell_type": "code",
   "execution_count": 16,
   "metadata": {},
   "outputs": [
    {
     "name": "stdout",
     "output_type": "stream",
     "text": [
      "Taking a matrix A: \n",
      "\n",
      "    a*  = transponse of A.\n",
      "    \n",
      "    *a = A\n",
      "    \n",
      "False\n",
      "shape of a* = (5, 3, 2), shape of *b = (5, 2, 3)\n"
     ]
    }
   ],
   "source": [
    "# your code here\n",
    "print('''Taking a matrix A: \n",
    "\n",
    "    a*  = transponse of A.\n",
    "    \n",
    "    *a = A\n",
    "    ''')\n",
    "\n",
    "\n",
    "a_ = a.transpose() ##Definition of the transpose matrix of a and b, so-called (a*,b*)\n",
    "b_ = b.transpose()\n",
    "\n",
    "if a_.shape == b.shape:\n",
    "    print(True)\n",
    "    print(f'shape of a* and *b = {a_.shape}')\n",
    "else:\n",
    "    print(False)\n",
    "    print(f'shape of a* = {a_.shape}, shape of *b = {b.shape}')\n"
   ]
  },
  {
   "cell_type": "markdown",
   "metadata": {},
   "source": [
    "#### 8. Are you able to add *a* and *b*? Why or why not?\n"
   ]
  },
  {
   "cell_type": "code",
   "execution_count": 93,
   "metadata": {},
   "outputs": [
    {
     "name": "stdout",
     "output_type": "stream",
     "text": [
      "Taking a matrix A: \n",
      "\n",
      "    a*  = transponse of A.\n",
      "    \n",
      "    *a = A\n",
      "    \n",
      "According with Algebra, we just can add or substract(sum or rest) elements between matrices when their dimensions are the same. \n",
      "\n",
      "Therefore, WE JUST CAN OPERATE BETWEEN (a,b) and the group of their transpose (a_,b_): not between both groups.\n",
      "    \n",
      "\n",
      "matrix size of *a = (2, 3, 5)\n",
      "\n",
      "\n",
      "\n",
      "\n",
      "\n",
      "matrix size of *b = (5, 2, 3)\n",
      "\n",
      "\n",
      "\n",
      "\n",
      "\n",
      "matrix size of a* = (5, 3, 2)\n",
      "\n",
      "\n",
      "\n",
      "\n",
      "\n",
      "matrix size of b* = (3, 2, 5)\n",
      "\n",
      "\n",
      "we can not add because does not fit the dimensions\n"
     ]
    },
    {
     "ename": "ValueError",
     "evalue": "operands could not be broadcast together with shapes (5,3,2) (5,2,3) ",
     "output_type": "error",
     "traceback": [
      "\u001b[0;31m---------------------------------------------------------------------------\u001b[0m",
      "\u001b[0;31mValueError\u001b[0m                                Traceback (most recent call last)",
      "\u001b[0;32m<ipython-input-93-0f087e35f68e>\u001b[0m in \u001b[0;36m<module>\u001b[0;34m\u001b[0m\n\u001b[1;32m     30\u001b[0m \u001b[0;34m\u001b[0m\u001b[0m\n\u001b[1;32m     31\u001b[0m \u001b[0mprint\u001b[0m\u001b[0;34m(\u001b[0m\u001b[0;34m'we can not add because does not fit the dimensions'\u001b[0m\u001b[0;34m)\u001b[0m\u001b[0;34m\u001b[0m\u001b[0;34m\u001b[0m\u001b[0m\n\u001b[0;32m---> 32\u001b[0;31m \u001b[0msuma\u001b[0m \u001b[0;34m=\u001b[0m \u001b[0ma_\u001b[0m \u001b[0;34m+\u001b[0m \u001b[0mb\u001b[0m\u001b[0;34m\u001b[0m\u001b[0;34m\u001b[0m\u001b[0m\n\u001b[0m",
      "\u001b[0;31mValueError\u001b[0m: operands could not be broadcast together with shapes (5,3,2) (5,2,3) "
     ]
    }
   ],
   "source": [
    "# your answer here\n",
    "\n",
    "\n",
    "print('''Taking a matrix A: \n",
    "\n",
    "    a*  = transponse of A.\n",
    "    \n",
    "    *a = A\n",
    "    ''')\n",
    "\n",
    "print('''According with Algebra, we just can add or substract(sum or rest) elements between matrices when their dimensions are the same. \\n\\nTherefore, WE JUST CAN OPERATE BETWEEN (a,b) and the group of their transpose (a_,b_): not between both groups.\n",
    "    ''')\n",
    "\n",
    "#print(a)\n",
    "print(f'\\nmatrix size of *a = {a.shape}\\n\\n\\n\\n')\n",
    "\n",
    "#print(b)\n",
    "print(f'\\nmatrix size of *b = {b.shape}\\n\\n\\n\\n')\n",
    "\n",
    "\n",
    "a_ = a.transpose()\n",
    "#print(a_)\n",
    "print(f'\\nmatrix size of a* = {a_.shape}\\n\\n\\n\\n')\n",
    "\n",
    "\n",
    "\n",
    "b_= b.transpose()\n",
    "#print(b_)\n",
    "print(f'\\nmatrix size of b* = {b_.shape}\\n\\n')\n",
    "\n",
    "print('we can not add because does not fit the dimensions')\n",
    "suma = a_ + b\n"
   ]
  },
  {
   "cell_type": "markdown",
   "metadata": {},
   "source": [
    "#### 9. Transpose *b* so that it has the same structure of *a* (i.e. become a 2x3x5 array). Assign the transposed array to variable *c*."
   ]
  },
  {
   "cell_type": "code",
   "execution_count": 92,
   "metadata": {},
   "outputs": [
    {
     "name": "stdout",
     "output_type": "stream",
     "text": [
      "\n",
      "nmatrix size of b* = (3, 2, 5)\n",
      "matrix size of *a = (2, 3, 5)\n",
      "\n",
      "\n",
      "matrix size of *c = (2, 3, 5) \n"
     ]
    }
   ],
   "source": [
    "\n",
    "# your code here\n",
    "\n",
    "print(f'''\n",
    "nmatrix size of b* = {b_.shape}\n",
    "matrix size of *a = {a.shape}\n",
    "''')\n",
    "\n",
    "##I have to transpose b* (3,2,5) to be the same dimension than *a(2,3,5) c = b_.transpose(0,1,2)\n",
    "c = b_.transpose(1,0,2)\n",
    "#print(c)\n",
    "print(f'\\nmatrix size of *c = {c.shape} ')\n"
   ]
  },
  {
   "cell_type": "markdown",
   "metadata": {},
   "source": [
    "#### 10. Try to add *a* and *c*. Now it should work. Assign the sum to variable *d*. But why does it work now?"
   ]
  },
  {
   "cell_type": "code",
   "execution_count": 68,
   "metadata": {},
   "outputs": [
    {
     "name": "stdout",
     "output_type": "stream",
     "text": [
      "\n",
      "    \n",
      "    It is going to work because the size of a* = (5, 3, 2) are the sime that *c, which is *c = (2, 3, 5).\n",
      "    \n",
      "    Let's check it ...\n",
      "    \n",
      "     \n",
      "It works because have the same dimension.\n",
      "[[[27.4  29.16 30.92 32.68 34.44]\n",
      "  [36.2  37.96 39.72 41.48 43.24]\n",
      "  [45.   46.76 48.52 50.28 52.04]]\n",
      "\n",
      " [[53.8  55.56 57.32 59.08 60.84]\n",
      "  [62.6  64.36 66.12 67.88 69.64]\n",
      "  [71.4  73.16 74.92 76.68 78.44]]]\n"
     ]
    }
   ],
   "source": [
    "############SOMETHING WEIRD....... It means *a and *c, to have same dimensions, I think.\n",
    "\n",
    "\n",
    "# your code/answer here\n",
    "\n",
    "\n",
    "c_ = c.transpose()\n",
    "\n",
    "\n",
    "print(f'''\n",
    "    \n",
    "    It is going to work because the size of a* = {a_.shape} are the sime that *c, which is *c = {c.shape}.\n",
    "    \n",
    "    Let's check it ...\n",
    "    \n",
    "     ''')\n",
    "\n",
    "\n",
    "d = a + c\n",
    "print('It works because have the same dimension.')\n",
    "print(d)\n",
    "\n"
   ]
  },
  {
   "cell_type": "markdown",
   "metadata": {},
   "source": [
    "#### 11. Print *a* and *d*. Notice the difference and relation of the two array in terms of the values? Explain."
   ]
  },
  {
   "cell_type": "code",
   "execution_count": 73,
   "metadata": {},
   "outputs": [
    {
     "name": "stdout",
     "output_type": "stream",
     "text": [
      "\n",
      "\n",
      "the size of \"a*\"\" = (5, 3, 2) and the size of \"*d\" = (2, 3, 5)  are the opposite (transpose).\n",
      "\n",
      "The Nth file  of \"a*\" coincides with the Nth row of \"*d\"\n",
      "    \n"
     ]
    }
   ],
   "source": [
    "# your code/answer here\n",
    "\n",
    "print(f'''\n",
    "\n",
    "the size of \"a*\"\" = {a_.shape} and the size of \"*d\" = {d.shape}  are the opposite (transpose).\n",
    "\n",
    "The Nth file  of \"a*\" coincides with the Nth row of \"*d\"\n",
    "    ''')\n",
    "\n"
   ]
  },
  {
   "cell_type": "markdown",
   "metadata": {},
   "source": [
    "#### 12. Multiply *a* and *c*. Assign the result to *e*."
   ]
  },
  {
   "cell_type": "code",
   "execution_count": 81,
   "metadata": {},
   "outputs": [
    {
     "name": "stdout",
     "output_type": "stream",
     "text": [
      "\n",
      "    I think there is a mistake because just can multiply (*a, *c) or (a*,c*) for the dimensions matching. Is it right?.\n",
      "    \n",
      "    size a = (2, 3, 5) and size c  = (2, 3, 5) \n",
      "    \n",
      "    Let's work under this premise....\n",
      "    \n",
      "    matrix *a x *c:\n",
      "\n",
      "e = \n",
      "\n",
      " [[[26.4  28.16 29.92 31.68 33.44]\n",
      "  [35.2  36.96 38.72 40.48 42.24]\n",
      "  [44.   45.76 47.52 49.28 51.04]]\n",
      "\n",
      " [[52.8  54.56 56.32 58.08 59.84]\n",
      "  [61.6  63.36 65.12 66.88 68.64]\n",
      "  [70.4  72.16 73.92 75.68 77.44]]]\n",
      "\n",
      " size=(2, 3, 5)\n"
     ]
    }
   ],
   "source": [
    "# your code here\n",
    "######POSSIBLE MISTAKE here...??\n",
    "\n",
    "print(f'''\n",
    "    I think there is a mistake because just can multiply (*a, *c) or (a*,c*) for the dimensions matching. Is it right?.\n",
    "    \n",
    "    size a = {a.shape} and size c  = {c.shape} \n",
    "    \n",
    "    Let's work under this premise....\n",
    "    \n",
    "    matrix *a x *c:\n",
    "''')\n",
    "\n",
    "e = a * c\n",
    "print(f'e = \\n\\n {e}\\n\\n size={e.shape}')\n",
    "\n",
    "#e= np.tensordot(a_,c, axes=([0,2],[2,0]))\n",
    "\n",
    "## a*.size = (3,2,5) --> axes(0,1,2)\n",
    "## *c.size = (5,2,3) --> axes (0,1,2)\n",
    "\n",
    "\n",
    "##When axes is integer_like, the sequence for evaluation will be: first the -Nth axis in a and 0th axis in b, and the -1th axis \n",
    "##in a and Nth axis in b last.\n",
    "\n",
    "##When there is more than one axis to sum over - and they are not the last (first) axes of a (b) - the argument axes \n",
    "##should consist of two sequences of the same length, with the first axis to sum over given first in both sequences, \n",
    "##the second axis second, and so forth.\n",
    "\n",
    "#print(f'\\n\\nmatrix *e(a*,c) = \\n\\n {e}\\n\\n with a size of {e.shape}')\n",
    "\n"
   ]
  },
  {
   "cell_type": "markdown",
   "metadata": {},
   "source": [
    "#### 13. Does *e* equal to *a*? Why or why not?\n"
   ]
  },
  {
   "cell_type": "code",
   "execution_count": 84,
   "metadata": {},
   "outputs": [
    {
     "name": "stdout",
     "output_type": "stream",
     "text": [
      "\n",
      "    \n",
      "    size *a = (2, 3, 5) and size e*  = (5, 3, 2) : They are the transpose of each other.\n",
      "    \n",
      "\n"
     ]
    }
   ],
   "source": [
    "# your code/answer here\n",
    "\n",
    "e_ =e.transpose()\n",
    "\n",
    "print(f'''\n",
    "    \n",
    "    size *a = {a.shape} and size e*  = {e_.shape} : They are the transpose of each other.\n",
    "    \n",
    "''')"
   ]
  },
  {
   "cell_type": "markdown",
   "metadata": {},
   "source": [
    "#### 14. Identify the max, min, and mean values in *d*. Assign those values to variables *d_max*, *d_min* and *d_mean*."
   ]
  },
  {
   "cell_type": "code",
   "execution_count": 85,
   "metadata": {},
   "outputs": [
    {
     "name": "stdout",
     "output_type": "stream",
     "text": [
      "d_max = 78.44, d_min = 27.4 and d_mean = 52.92\n"
     ]
    }
   ],
   "source": [
    "# your code here\n",
    "d_ = d_\n",
    "\n",
    "d_max = d_.max()\n",
    "d_min = d_.min()\n",
    "d_mean = d_.mean()\n",
    "print(f'd_max = {d_max}, d_min = {d_min} and d_mean = {d_mean}')\n"
   ]
  },
  {
   "cell_type": "markdown",
   "metadata": {},
   "source": [
    "#### 15. Now we want to label the values in *d*. First create an empty array *f* with the same shape (i.e. 2x3x5) as *d* using `np.empty`.\n"
   ]
  },
  {
   "cell_type": "code",
   "execution_count": 86,
   "metadata": {},
   "outputs": [
    {
     "name": "stdout",
     "output_type": "stream",
     "text": [
      "[[[2 2 2 2 2]\n",
      "  [2 2 2 2 2]\n",
      "  [2 2 2 2 2]]\n",
      "\n",
      " [[2 2 2 2 2]\n",
      "  [2 2 2 2 2]\n",
      "  [2 2 2 2 2]]]\n"
     ]
    }
   ],
   "source": [
    "# your code here\n",
    "\n",
    "f= np.empty([2,3,5], dtype =np.int32)\n",
    "\n",
    "print(f)\n",
    "\n",
    "##h = np.zeros([2,3,5]) to put zeros"
   ]
  },
  {
   "cell_type": "markdown",
   "metadata": {},
   "source": [
    "#### 16. Populate the values in *f*. \n",
    "\n",
    "For each value in *d*, if it's larger than *d_min* but smaller than *d_mean*, assign 25 to the corresponding value in *f*. If a value in *d* is larger than *d_mean* but smaller than *d_max*, assign 75 to the corresponding value in *f*. If a value equals to *d_mean*, assign 50 to the corresponding value in *f*. Assign 0 to the corresponding value(s) in *f* for *d_min* in *d*. Assign 100 to the corresponding value(s) in *f* for *d_max* in *d*. In the end, f should have only the following values: 0, 25, 50, 75, and 100.\n",
    "\n",
    "**Note**: you don't have to use Numpy in this question."
   ]
  },
  {
   "cell_type": "code",
   "execution_count": 89,
   "metadata": {},
   "outputs": [
    {
     "name": "stdout",
     "output_type": "stream",
     "text": [
      "[[[  0  25  25  25  25]\n",
      "  [ 25  25  25  25  25]\n",
      "  [ 25  25  25  25  25]]\n",
      "\n",
      " [[ 75  75  75  75  75]\n",
      "  [ 75  75  75  75  75]\n",
      "  [ 75  75  75  75 100]]]\n"
     ]
    }
   ],
   "source": [
    "# your code here\n",
    "for i in range(0,d.shape[0]):\n",
    "    for j in range(0,d.shape[1]):\n",
    "        for k in range(0,d.shape[2]):\n",
    "            if d[i][j][k] > d_min and d[i][j][k] < d_mean: #*d_min but smaller than d_mean, assign 25\n",
    "                f[i][j][k] = 25\n",
    "                \n",
    "                \n",
    "            elif d[i][j][k] > d_mean and d[i][j][k] < d_max:   #*d is larger than d_mean but smaller than d_max, assign 75\n",
    "                f[i][j][k] = 75\n",
    "                \n",
    "                \n",
    "            elif d[i][j][k] == d_mean:             #a value equals to *d_mean, assign 50 \n",
    "                d[i][j][k] = 50\n",
    "                \n",
    "                \n",
    "            elif d[i][j][k] == d_min:\n",
    "                f[i][j][k] = 0           # Assign 0 in *f for d_min in d*\n",
    "                \n",
    "                \n",
    "            elif d[i][j][k] == d_max:\n",
    "                f[i][j][k] = 100           # Assign 1000 in *f for d_max in d*\n",
    "print(f)\n",
    "                \n",
    "                \n",
    "\n"
   ]
  },
  {
   "cell_type": "markdown",
   "metadata": {},
   "source": [
    "#### 17. Print *d* and *f*. Do you have your expected *f*?\n",
    "For instance, if your *d* is:\n",
    "```python\n",
    "[[[1.85836099, 1.67064465, 1.62576044, 1.40243961, 1.88454931],\n",
    "[1.75354326, 1.69403643, 1.36729252, 1.61415071, 1.12104981],\n",
    "[1.72201435, 1.1862918 , 1.87078449, 1.7726778 , 1.88180042]],\n",
    "[[1.44747908, 1.31673383, 1.02000951, 1.52218947, 1.97066381],\n",
    "[1.79129243, 1.74983003, 1.96028037, 1.85166831, 1.65450881],\n",
    "[1.18068344, 1.9587381 , 1.00656599, 1.93402165, 1.73514584]]]\n",
    "```\n",
    "Your *f* should be:\n",
    "```python\n",
    "[[[ 75.,  75.,  75.,  25.,  75.],\n",
    "[ 75.,  75.,  25.,  25.,  25.],\n",
    "[ 75.,  25.,  75.,  75.,  75.]],\n",
    "[[ 25.,  25.,  25.,  25., 100.],\n",
    "[ 75.,  75.,  75.,  75.,  75.],\n",
    "[ 25.,  75.,   0.,  75.,  75.]]]\n",
    "```"
   ]
  },
  {
   "cell_type": "code",
   "execution_count": 90,
   "metadata": {},
   "outputs": [
    {
     "name": "stdout",
     "output_type": "stream",
     "text": [
      "\n",
      "matrix d* is \n",
      "\n",
      "[[[27.4  53.8 ]\n",
      "  [36.2  62.6 ]\n",
      "  [45.   71.4 ]]\n",
      "\n",
      " [[29.16 55.56]\n",
      "  [37.96 64.36]\n",
      "  [46.76 73.16]]\n",
      "\n",
      " [[30.92 57.32]\n",
      "  [39.72 66.12]\n",
      "  [48.52 74.92]]\n",
      "\n",
      " [[32.68 59.08]\n",
      "  [41.48 67.88]\n",
      "  [50.28 76.68]]\n",
      "\n",
      " [[34.44 60.84]\n",
      "  [43.24 69.64]\n",
      "  [52.04 78.44]]]\n",
      "\n",
      "\n",
      "\n",
      "\n",
      "matrix f is \n",
      "\n",
      "[[[  0  25  25  25  25]\n",
      "  [ 25  25  25  25  25]\n",
      "  [ 25  25  25  25  25]]\n",
      "\n",
      " [[ 75  75  75  75  75]\n",
      "  [ 75  75  75  75  75]\n",
      "  [ 75  75  75  75 100]]]\n"
     ]
    }
   ],
   "source": [
    "# your code here\n",
    "\n",
    "print(f'\\nmatrix d* is \\n\\n{d_}\\n\\n')\n",
    "      \n",
    "print(f'\\n\\nmatrix f is \\n\\n{f}')"
   ]
  },
  {
   "cell_type": "markdown",
   "metadata": {},
   "source": [
    "#### 18. Bonus question: instead of using numbers (i.e. 0, 25, 50, 75, and 100), use string values  (\"A\", \"B\", \"C\", \"D\", and \"E\") to label the array elements. For the example above, the expected result is:\n",
    "\n",
    "```python\n",
    "[[[ 'D',  'D',  'D',  'B',  'D'],\n",
    "[ 'D',  'D',  'B',  'B',  'B'],\n",
    "[ 'D',  'B',  'D',  'D',  'D']],\n",
    "[[ 'B',  'B',  'B',  'B',  'E'],\n",
    "[ 'D',  'D',  'D',  'D',  'D'],\n",
    "[ 'B',  'D',   'A',  'D', 'D']]]\n",
    "```\n",
    "**Note**: you don't have to use Numpy in this question."
   ]
  },
  {
   "cell_type": "code",
   "execution_count": 91,
   "metadata": {},
   "outputs": [
    {
     "name": "stdout",
     "output_type": "stream",
     "text": [
      "[[['D' 'A' 'A' 'A' 'A']\n",
      "  ['A' 'A' 'A' 'A' 'A']\n",
      "  ['A' 'A' 'A' 'A' 'A']]\n",
      "\n",
      " [['B' 'B' 'B' 'B' 'B']\n",
      "  ['B' 'B' 'B' 'B' 'B']\n",
      "  ['B' 'B' 'B' 'B' 'E']]]\n"
     ]
    }
   ],
   "source": [
    "# your code heref\n",
    "\n",
    "g= np.empty([2,3,5], dtype =np.str)\n",
    "\n",
    "##the keypoint in this section is create a new matrix of the same size than d, and categorize it as a \n",
    "##string, not as an int of 32 bits!!!!!\n",
    "\n",
    "\n",
    "\n",
    "for i in range(0,d.shape[0]):\n",
    "    for j in range(0,d.shape[1]):\n",
    "        for k in range(0,d.shape[2]):\n",
    "            if d[i][j][k] > d_min and d[i][j][k] < d_mean: #*d_min but smaller than d_mean, assign 25\n",
    "                g[i][j][k] = 'A'\n",
    "            elif d[i][j][k] > d_mean and d[i][j][k] < d_max:   #*d is larger than d_mean but smaller than d_max, assign 75\n",
    "                g[i][j][k] = 'B'\n",
    "            elif d[i][j][k] == d_mean:             #a value equals to *d_mean, assign 50 \n",
    "                g[i][j][k] = 'C'\n",
    "            elif d[i][j][k] == d_min:\n",
    "                g[i][j][k] = 'D'           # Assign 0 in *f for d_min in d*\n",
    "            elif d[i][j][k] == d_max:\n",
    "                g[i][j][k] = 'E'           # Assign 1000 in *f for d_max in d*\n",
    "print(g)\n",
    "                \n",
    "                \n",
    "\n"
   ]
  },
  {
   "cell_type": "code",
   "execution_count": null,
   "metadata": {},
   "outputs": [],
   "source": []
  }
 ],
 "metadata": {
  "kernelspec": {
   "display_name": "Python 3",
   "language": "python",
   "name": "python3"
  },
  "language_info": {
   "codemirror_mode": {
    "name": "ipython",
    "version": 3
   },
   "file_extension": ".py",
   "mimetype": "text/x-python",
   "name": "python",
   "nbconvert_exporter": "python",
   "pygments_lexer": "ipython3",
   "version": "3.7.3"
  }
 },
 "nbformat": 4,
 "nbformat_minor": 2
}
